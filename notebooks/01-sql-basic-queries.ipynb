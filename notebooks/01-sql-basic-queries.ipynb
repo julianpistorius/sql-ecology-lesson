{
 "cells": [
  {
   "cell_type": "markdown",
   "metadata": {
    "tags": []
   },
   "source": [
    "# Accessing Data With Queries"
   ]
  },
  {
   "cell_type": "markdown",
   "metadata": {
    "tags": []
   },
   "source": [
    "## Overview"
   ]
  },
  {
   "cell_type": "markdown",
   "metadata": {},
   "source": [
    "Teaching: 30  \n",
    "Exercises: 5  \n",
    "\n",
    "### Questions\n",
    "\n",
    "- \"How do I write a basic query in SQL?\"\n",
    "\n",
    "### Objectives\n",
    "\n",
    "- \"Write and build queries.\"\n",
    "- \"Filter data given various criteria.\"\n",
    "- \"Sort the results of a query.\"\n",
    "\n",
    "### Key points\n",
    "\n",
    "- \"It is useful to apply conventions when writing SQL queries to aid readability.\"\n",
    "- \"Use logical connectors such as AND or OR to create more complex queries.\"\n",
    "- \"Calculations using mathematical symbols can also be performed on SQL queries.\"\n",
    "- \"Adding comments in SQL helps keep complex queries understandable.\""
   ]
  },
  {
   "cell_type": "markdown",
   "metadata": {
    "jp-MarkdownHeadingCollapsed": true,
    "tags": []
   },
   "source": [
    "## Setup"
   ]
  },
  {
   "cell_type": "markdown",
   "metadata": {
    "tags": []
   },
   "source": [
    "### Copy the original dataset to a folder `notebooks/data`"
   ]
  },
  {
   "cell_type": "code",
   "execution_count": null,
   "metadata": {},
   "outputs": [],
   "source": [
    "! cp -R ../files/original-data/ ./data"
   ]
  },
  {
   "cell_type": "markdown",
   "metadata": {
    "tags": []
   },
   "source": [
    "### Configure SQL Magic extension and connect to the database"
   ]
  },
  {
   "cell_type": "markdown",
   "metadata": {},
   "source": [
    "We're going to connect to our database again. This time we're going to configure the SQL Magic extension to return Pandas data frames in order for the notebook to handle large result sets better."
   ]
  },
  {
   "cell_type": "code",
   "execution_count": null,
   "metadata": {},
   "outputs": [],
   "source": [
    "%load_ext sql"
   ]
  },
  {
   "cell_type": "code",
   "execution_count": null,
   "metadata": {},
   "outputs": [],
   "source": [
    "%config SqlMagic.autopandas=True"
   ]
  },
  {
   "cell_type": "code",
   "execution_count": null,
   "metadata": {},
   "outputs": [],
   "source": [
    "%sql sqlite:///data/portal_mammals.sqlite"
   ]
  },
  {
   "cell_type": "markdown",
   "metadata": {
    "tags": []
   },
   "source": [
    "## Writing my first query"
   ]
  },
  {
   "cell_type": "markdown",
   "metadata": {},
   "source": [
    "Let's start by using the **surveys** table. Here we have data on every\n",
    "individual that was captured at the site, including when they were captured,\n",
    "what plot they were captured on, their species ID, sex and weight in grams.\n",
    "\n",
    "Let's write an SQL query that selects all of the columns in the surveys table. If you want to display all of the columns in a table, use the wildcard *."
   ]
  },
  {
   "cell_type": "code",
   "execution_count": null,
   "metadata": {},
   "outputs": [],
   "source": [
    "%%sql\n",
    "SELECT *\n",
    "FROM surveys;"
   ]
  },
  {
   "cell_type": "markdown",
   "metadata": {},
   "source": [
    "We have capitalized the words SELECT and FROM because they are SQL keywords.\n",
    "SQL is case insensitive, but it helps for readability, and is good style.\n",
    "\n",
    "If we want to select a single column, we can type the column name instead of the wildcard *."
   ]
  },
  {
   "cell_type": "code",
   "execution_count": null,
   "metadata": {},
   "outputs": [],
   "source": [
    "%%sql\n",
    "SELECT year\n",
    "FROM surveys;"
   ]
  },
  {
   "cell_type": "markdown",
   "metadata": {},
   "source": [
    "If we want more information, we can add more columns to the list of fields,\n",
    "right after SELECT:"
   ]
  },
  {
   "cell_type": "code",
   "execution_count": null,
   "metadata": {},
   "outputs": [],
   "source": [
    "%%sql\n",
    "SELECT year, month, day\n",
    "FROM surveys;"
   ]
  },
  {
   "cell_type": "markdown",
   "metadata": {
    "tags": []
   },
   "source": [
    "### Limiting results"
   ]
  },
  {
   "cell_type": "markdown",
   "metadata": {},
   "source": [
    "Sometimes you don't want to see all the results, you just want to get a sense of what's being returned. In that case, you can use the `LIMIT` command. In particular, you would want to do this if you were working with large databases."
   ]
  },
  {
   "cell_type": "code",
   "execution_count": null,
   "metadata": {},
   "outputs": [],
   "source": [
    "%%sql\n",
    "SELECT *\n",
    "FROM surveys\n",
    "LIMIT 10;"
   ]
  },
  {
   "cell_type": "markdown",
   "metadata": {
    "tags": []
   },
   "source": [
    "### Unique values"
   ]
  },
  {
   "cell_type": "markdown",
   "metadata": {},
   "source": [
    "If we want only the unique values so that we can quickly see what species have\n",
    "been sampled we use `DISTINCT`."
   ]
  },
  {
   "cell_type": "code",
   "execution_count": null,
   "metadata": {},
   "outputs": [],
   "source": [
    "%%sql\n",
    "SELECT DISTINCT species_id\n",
    "FROM surveys;"
   ]
  },
  {
   "cell_type": "markdown",
   "metadata": {},
   "source": [
    "If we select more than one column, then the distinct pairs of values are\n",
    "returned."
   ]
  },
  {
   "cell_type": "code",
   "execution_count": null,
   "metadata": {},
   "outputs": [],
   "source": [
    "%%sql\n",
    "SELECT DISTINCT year, species_id\n",
    "FROM surveys;"
   ]
  },
  {
   "cell_type": "markdown",
   "metadata": {
    "tags": []
   },
   "source": [
    "### Calculated values"
   ]
  },
  {
   "cell_type": "markdown",
   "metadata": {},
   "source": [
    "We can also do calculations with the values in a query.\n",
    "For example, if we wanted to look at the mass of each individual\n",
    "on different dates, but we needed it in kg instead of g we would use:"
   ]
  },
  {
   "cell_type": "code",
   "execution_count": null,
   "metadata": {},
   "outputs": [],
   "source": [
    "%%sql\n",
    "SELECT year, month, day, weight, weight/1000\n",
    "FROM surveys;"
   ]
  },
  {
   "cell_type": "markdown",
   "metadata": {},
   "source": [
    "When we run the query, the expression `weight / 1000` is evaluated for each\n",
    "row and appended to that row, in a new column. If we used the `INTEGER` data type\n",
    "for the weight field then integer division would have been done, to obtain the\n",
    "correct results in that case divide by `1000.0`. Expressions can use any fields,\n",
    "any arithmetic operators (`+`, `-`, `*`, and `/`) and a variety of built-in\n",
    "functions. For example, we could round the values to make them easier to read."
   ]
  },
  {
   "cell_type": "code",
   "execution_count": null,
   "metadata": {},
   "outputs": [],
   "source": [
    "%%sql\n",
    "SELECT plot_id, species_id, sex, weight, ROUND(weight / 1000, 2)\n",
    "FROM surveys;"
   ]
  },
  {
   "cell_type": "markdown",
   "metadata": {
    "tags": []
   },
   "source": [
    "### Challenge"
   ]
  },
  {
   "cell_type": "markdown",
   "metadata": {},
   "source": [
    "> - Write a query that returns the year, month, day, species_id and weight in mg."
   ]
  },
  {
   "cell_type": "markdown",
   "metadata": {
    "jp-MarkdownHeadingCollapsed": true,
    "tags": []
   },
   "source": [
    "#### Solution"
   ]
  },
  {
   "cell_type": "code",
   "execution_count": null,
   "metadata": {},
   "outputs": [],
   "source": [
    "%%sql\n",
    "SELECT day, month, year, species_id, weight * 1000\n",
    "FROM surveys;"
   ]
  },
  {
   "cell_type": "markdown",
   "metadata": {
    "tags": []
   },
   "source": [
    "## Filtering"
   ]
  },
  {
   "cell_type": "markdown",
   "metadata": {},
   "source": [
    "Databases can also filter data – selecting only the data meeting certain\n",
    "criteria.  For example, let’s say we only want data for the species\n",
    "_Dipodomys merriami_, which has a species code of DM.  We need to add a\n",
    "`WHERE` clause to our query:"
   ]
  },
  {
   "cell_type": "code",
   "execution_count": null,
   "metadata": {},
   "outputs": [],
   "source": [
    "%%sql\n",
    "SELECT *\n",
    "FROM surveys\n",
    "WHERE species_id='DM';"
   ]
  },
  {
   "cell_type": "markdown",
   "metadata": {},
   "source": [
    "We can do the same thing with numbers.\n",
    "Here, we only want the data since 2000:"
   ]
  },
  {
   "cell_type": "code",
   "execution_count": null,
   "metadata": {},
   "outputs": [],
   "source": [
    "%%sql\n",
    "SELECT * FROM surveys\n",
    "WHERE year >= 2000;"
   ]
  },
  {
   "cell_type": "markdown",
   "metadata": {},
   "source": [
    "If we used the `TEXT` data type for the year, the `WHERE` clause should\n",
    "be `year >= '2000'`. \n",
    "\n",
    "We can use more sophisticated conditions by combining tests\n",
    "with `AND` and `OR`.  For example, suppose we want the data on *Dipodomys merriami*\n",
    "starting in the year 2000:"
   ]
  },
  {
   "cell_type": "code",
   "execution_count": null,
   "metadata": {},
   "outputs": [],
   "source": [
    "%%sql\n",
    "SELECT *\n",
    "FROM surveys\n",
    "WHERE (year >= 2000) AND (species_id = 'DM');"
   ]
  },
  {
   "cell_type": "markdown",
   "metadata": {},
   "source": [
    "Note that the parentheses are not needed, but again, they help with\n",
    "readability.  They also ensure that the computer combines `AND` and `OR`\n",
    "in the way that we intend.\n",
    "\n",
    "If we wanted to get data for any of the *Dipodomys* species, which have\n",
    "species codes `DM`, `DO`, and `DS`, we could combine the tests using OR:"
   ]
  },
  {
   "cell_type": "code",
   "execution_count": null,
   "metadata": {},
   "outputs": [],
   "source": [
    "%%sql\n",
    "SELECT *\n",
    "FROM surveys\n",
    "WHERE (species_id = 'DM') OR (species_id = 'DO') OR (species_id = 'DS');"
   ]
  },
  {
   "cell_type": "markdown",
   "metadata": {
    "tags": []
   },
   "source": [
    "### Challenge"
   ]
  },
  {
   "cell_type": "markdown",
   "metadata": {},
   "source": [
    "> - Produce a table listing the data for all individuals in Plot 1 \n",
    "> that weighed more than 75 grams, telling us the date, species id code, and weight\n",
    "> (in kg). "
   ]
  },
  {
   "cell_type": "markdown",
   "metadata": {
    "jp-MarkdownHeadingCollapsed": true,
    "tags": []
   },
   "source": [
    "#### Solution"
   ]
  },
  {
   "cell_type": "code",
   "execution_count": null,
   "metadata": {},
   "outputs": [],
   "source": [
    "%%sql\n",
    "SELECT day, month, year, species_id, weight / 1000\n",
    "FROM surveys\n",
    "WHERE (plot_id = 1) AND (weight > 75);"
   ]
  },
  {
   "cell_type": "markdown",
   "metadata": {
    "tags": []
   },
   "source": [
    "## Building more complex queries"
   ]
  },
  {
   "cell_type": "markdown",
   "metadata": {},
   "source": [
    "Now, let's combine the above queries to get data for the 3 _Dipodomys_ species from\n",
    "the year 2000 on.  This time, let’s use IN as one way to make the query easier\n",
    "to understand.  It is equivalent to saying `WHERE (species_id = 'DM') OR (species_id\n",
    "= 'DO') OR (species_id = 'DS')`, but reads more neatly:"
   ]
  },
  {
   "cell_type": "code",
   "execution_count": null,
   "metadata": {},
   "outputs": [],
   "source": [
    "%%sql\n",
    "SELECT *\n",
    "FROM surveys\n",
    "WHERE (year >= 2000) AND (species_id IN ('DM', 'DO', 'DS'));"
   ]
  },
  {
   "cell_type": "markdown",
   "metadata": {},
   "source": [
    "We started with something simple, then added more clauses one by one, testing\n",
    "their effects as we went along.  For complex queries, this is a good strategy,\n",
    "to make sure you are getting what you want.  Sometimes it might help to take a\n",
    "subset of the data that you can easily see in a temporary database to practice\n",
    "your queries on before working on a larger or more complicated database.\n",
    "\n",
    "When the queries become more complex, it can be useful to add comments. In SQL,\n",
    "comments are started by `--`, and end at the end of the line. For example, a\n",
    "commented version of the above query can be written as:\n",
    "\n",
    "\n",
    "```sql\n",
    "-- Get post 2000 data on Dipodomys' species\n",
    "-- These are in the surveys table, and we are interested in all columns\n",
    "SELECT * FROM surveys\n",
    "-- Sampling year is in the column `year`, and we want to include 2000\n",
    "WHERE (year >= 2000)\n",
    "-- Dipodomys' species have the `species_id` DM, DO, and DS\n",
    "AND (species_id IN ('DM', 'DO', 'DS'));\n",
    "```\n",
    "\n",
    "Although SQL queries often read like plain English, it is *always* useful to add\n",
    "comments; this is especially true of more complex queries."
   ]
  },
  {
   "cell_type": "markdown",
   "metadata": {
    "tags": []
   },
   "source": [
    "## Sorting"
   ]
  },
  {
   "cell_type": "markdown",
   "metadata": {},
   "source": [
    "We can also sort the results of our queries by using `ORDER BY`.\n",
    "For simplicity, let’s go back to the **species** table and alphabetize it by taxa.\n",
    "\n",
    "First, let's look at what's in the **species** table. It's a table of the species_id and the full genus, species and taxa information for each species_id. Having this in a separate table is nice, because we didn't need to include all\n",
    "this information in our main **surveys** table."
   ]
  },
  {
   "cell_type": "code",
   "execution_count": null,
   "metadata": {},
   "outputs": [],
   "source": [
    "%%sql\n",
    "SELECT *\n",
    "FROM species;"
   ]
  },
  {
   "cell_type": "markdown",
   "metadata": {},
   "source": [
    "Now let's order it by taxa."
   ]
  },
  {
   "cell_type": "code",
   "execution_count": null,
   "metadata": {},
   "outputs": [],
   "source": [
    "%%sql\n",
    "SELECT *\n",
    "FROM species\n",
    "ORDER BY taxa ASC;"
   ]
  },
  {
   "cell_type": "markdown",
   "metadata": {},
   "source": [
    "The keyword `ASC` tells us to order it in ascending order.\n",
    "We could alternately use `DESC` to get descending order."
   ]
  },
  {
   "cell_type": "code",
   "execution_count": null,
   "metadata": {},
   "outputs": [],
   "source": [
    "%%sql\n",
    "SELECT *\n",
    "FROM species\n",
    "ORDER BY taxa DESC;"
   ]
  },
  {
   "cell_type": "markdown",
   "metadata": {},
   "source": [
    "`ASC` is the default.\n",
    "\n",
    "We can also sort on several fields at once.\n",
    "To truly be alphabetical, we might want to order by genus then species."
   ]
  },
  {
   "cell_type": "code",
   "execution_count": null,
   "metadata": {},
   "outputs": [],
   "source": [
    "%%sql\n",
    "SELECT *\n",
    "FROM species\n",
    "ORDER BY genus ASC, species ASC;"
   ]
  },
  {
   "cell_type": "markdown",
   "metadata": {
    "tags": []
   },
   "source": [
    "### Challenge"
   ]
  },
  {
   "cell_type": "markdown",
   "metadata": {},
   "source": [
    "> - Write a query that returns year, species_id, and weight in kg from\n",
    "> the surveys table, sorted with the largest weights at the top."
   ]
  },
  {
   "cell_type": "markdown",
   "metadata": {
    "jp-MarkdownHeadingCollapsed": true,
    "tags": []
   },
   "source": [
    "#### Solution"
   ]
  },
  {
   "cell_type": "code",
   "execution_count": null,
   "metadata": {},
   "outputs": [],
   "source": [
    "%%sql\n",
    "SELECT year, species_id, weight / 1000\n",
    "FROM surveys\n",
    "ORDER BY weight DESC;"
   ]
  },
  {
   "cell_type": "markdown",
   "metadata": {
    "tags": []
   },
   "source": [
    "## Order of execution"
   ]
  },
  {
   "cell_type": "markdown",
   "metadata": {},
   "source": [
    "Another note for ordering. We don’t actually have to display a column to sort by\n",
    "it.  For example, let’s say we want to order the birds by their species ID, but\n",
    "we only want to see genus and species."
   ]
  },
  {
   "cell_type": "code",
   "execution_count": null,
   "metadata": {},
   "outputs": [],
   "source": [
    "%%sql\n",
    "SELECT genus, species\n",
    "FROM species\n",
    "WHERE taxa = 'Bird'\n",
    "ORDER BY species_id ASC;"
   ]
  },
  {
   "cell_type": "markdown",
   "metadata": {},
   "source": [
    "We can do this because sorting occurs earlier in the computational pipeline than\n",
    "field selection.\n",
    "\n",
    "The computer is basically doing this:\n",
    "\n",
    "1. Filtering rows according to WHERE\n",
    "2. Sorting results according to ORDER BY\n",
    "3. Displaying requested columns or expressions.\n",
    "\n",
    "Clauses are written in a fixed order: `SELECT`, `FROM`, `WHERE`, then `ORDER\n",
    "BY`. It is possible to write a query as a single line, but for readability,\n",
    "we recommend to put each clause on its own line."
   ]
  },
  {
   "cell_type": "markdown",
   "metadata": {
    "tags": []
   },
   "source": [
    "### Challenge"
   ]
  },
  {
   "cell_type": "markdown",
   "metadata": {},
   "source": [
    "> - Let's try to combine what we've learned so far in a single\n",
    "> query. Using the surveys table, write a query to display the three date fields,\n",
    "> `species_id`, and weight in kilograms (rounded to two decimal places), for\n",
    "> individuals captured in 1999, ordered alphabetically by the `species_id`.\n",
    "> - Write the query as a single line, then put each clause on its own line, and\n",
    "> see how more legible the query becomes!"
   ]
  },
  {
   "cell_type": "markdown",
   "metadata": {
    "jp-MarkdownHeadingCollapsed": true,
    "tags": []
   },
   "source": [
    "#### Solution"
   ]
  },
  {
   "cell_type": "code",
   "execution_count": null,
   "metadata": {},
   "outputs": [],
   "source": [
    "%%sql\n",
    "SELECT year, month, day, species_id, ROUND(weight / 1000, 2)\n",
    "FROM surveys\n",
    "WHERE year = 1999\n",
    "ORDER BY species_id;"
   ]
  },
  {
   "cell_type": "markdown",
   "metadata": {},
   "source": [
    "## End of episode"
   ]
  }
 ],
 "metadata": {
  "kernelspec": {
   "display_name": "Python 3 (ipykernel)",
   "language": "python",
   "name": "python3"
  },
  "language_info": {
   "codemirror_mode": {
    "name": "ipython",
    "version": 3
   },
   "file_extension": ".py",
   "mimetype": "text/x-python",
   "name": "python",
   "nbconvert_exporter": "python",
   "pygments_lexer": "ipython3",
   "version": "3.7.10"
  }
 },
 "nbformat": 4,
 "nbformat_minor": 4
}

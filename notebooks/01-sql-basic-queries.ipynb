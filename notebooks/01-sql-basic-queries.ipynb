{
 "cells": [
  {
   "cell_type": "markdown",
   "metadata": {
    "tags": []
   },
   "source": [
    "# Accessing Data With Queries"
   ]
  },
  {
   "cell_type": "markdown",
   "metadata": {
    "jp-MarkdownHeadingCollapsed": true,
    "tags": []
   },
   "source": [
    "# Overview"
   ]
  },
  {
   "cell_type": "markdown",
   "metadata": {},
   "source": [
    "Teaching: 30  \n",
    "Exercises: 5  \n",
    "\n",
    "### Questions\n",
    "\n",
    "- \"How do I write a basic query in SQL?\"\n",
    "\n",
    "### Objectives\n",
    "\n",
    "- \"Write and build queries.\"\n",
    "- \"Filter data given various criteria.\"\n",
    "- \"Sort the results of a query.\"\n",
    "\n",
    "### Key points\n",
    "\n",
    "- \"It is useful to apply conventions when writing SQL queries to aid readability.\"\n",
    "- \"Use logical connectors such as AND or OR to create more complex queries.\"\n",
    "- \"Calculations using mathematical symbols can also be performed on SQL queries.\"\n",
    "- \"Adding comments in SQL helps keep complex queries understandable.\""
   ]
  },
  {
   "cell_type": "code",
   "execution_count": null,
   "metadata": {},
   "outputs": [],
   "source": []
  }
 ],
 "metadata": {
  "kernelspec": {
   "display_name": "Python 3 (ipykernel)",
   "language": "python",
   "name": "python3"
  },
  "language_info": {
   "codemirror_mode": {
    "name": "ipython",
    "version": 3
   },
   "file_extension": ".py",
   "mimetype": "text/x-python",
   "name": "python",
   "nbconvert_exporter": "python",
   "pygments_lexer": "ipython3",
   "version": "3.7.10"
  }
 },
 "nbformat": 4,
 "nbformat_minor": 4
}

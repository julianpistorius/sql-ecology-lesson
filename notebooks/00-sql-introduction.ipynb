{
 "cells": [
  {
   "cell_type": "markdown",
   "metadata": {
    "tags": []
   },
   "source": [
    "# Introducing Databases and SQL"
   ]
  },
  {
   "cell_type": "markdown",
   "metadata": {
    "tags": []
   },
   "source": [
    "## Overview"
   ]
  },
  {
   "cell_type": "markdown",
   "metadata": {
    "jp-MarkdownHeadingCollapsed": true,
    "tags": []
   },
   "source": [
    "Teaching: 60  \n",
    "Exercises: 5  \n",
    "\n",
    "### Questions\n",
    "\n",
    "- \"What is a relational database and why should I use it?\"\n",
    "- \"What is SQL?\"\n",
    "\n",
    "### Objectives\n",
    "\n",
    "- \"Describe why relational databases are useful.\"\n",
    "- \"Create and populate a database from a text file.\"\n",
    "- \"Define SQLite data types.\"\n",
    "\n",
    "### Key points\n",
    "\n",
    "- \"SQL allows us to select and group subsets of data, do math and other calculations, and combine data.\"\n",
    "- \"A relational database is made up of tables which are related to each other by shared keys.\"\n",
    "- \"Different database management systems (DBMS) use slightly different vocabulary, but they are all based on the same ideas.\""
   ]
  },
  {
   "cell_type": "markdown",
   "metadata": {
    "tags": []
   },
   "source": [
    "# Motivation"
   ]
  },
  {
   "cell_type": "markdown",
   "metadata": {},
   "source": [
    "To start, let's orient ourselves in our project workflow. You are probably used to using Excel or OpenRefine to go from messy, human created data to cleaned, computer-readable data. In this lesson you're going to learn how to use a database to read in this data, and then use it for analysis and visualization."
   ]
  },
  {
   "cell_type": "markdown",
   "metadata": {
    "tags": []
   },
   "source": [
    "## What is SQL?"
   ]
  },
  {
   "cell_type": "markdown",
   "metadata": {},
   "source": [
    "SQL stands for Structured Query Language. SQL allows us to interact with relational databases through queries.\n",
    "These queries can allow you to perform a number of actions such as: insert, select, update and delete information in a database."
   ]
  },
  {
   "cell_type": "markdown",
   "metadata": {
    "jp-MarkdownHeadingCollapsed": true,
    "tags": []
   },
   "source": [
    "## Setup: Copy the original dataset to a folder `notebooks/data`"
   ]
  },
  {
   "cell_type": "code",
   "execution_count": null,
   "metadata": {},
   "outputs": [],
   "source": [
    "! mkdir -p data; cp -R ../files/original-data/* ./data"
   ]
  },
  {
   "cell_type": "markdown",
   "metadata": {
    "tags": []
   },
   "source": [
    "## Dataset Description"
   ]
  },
  {
   "cell_type": "markdown",
   "metadata": {},
   "source": [
    "The data we will be using is a time-series for a small mammal community in\n",
    "southern Arizona. This is part of a project studying the effects of rodents and\n",
    "ants on the plant community that has been running for almost 40 years.  The\n",
    "rodents are sampled on a series of 24 plots, with different experimental\n",
    "manipulations controlling which rodents are allowed to access which plots.\n",
    "\n",
    "This is a real dataset that has been used in over 100 publications. We've\n",
    "simplified it for the workshop, but you can download the\n",
    "[full dataset](http://esapubs.org/archive/ecol/E090/118/) and work with it using\n",
    "exactly the same tools we'll learn about today."
   ]
  },
  {
   "cell_type": "markdown",
   "metadata": {
    "tags": []
   },
   "source": [
    "## Questions"
   ]
  },
  {
   "cell_type": "markdown",
   "metadata": {},
   "source": [
    "Let's look at some of the cleaned spreadsheets needed to complete this challenge. See the following three files in the `data` folder:\n",
    "\n",
    "* [`data/surveys.csv`](./data/surveys.csv)\n",
    "* [`data/species.csv`](./data/species.csv)\n",
    "* [`data/plots.csv`](./data/plots.csv)"
   ]
  },
  {
   "cell_type": "markdown",
   "metadata": {
    "tags": []
   },
   "source": [
    "## Challenge"
   ]
  },
  {
   "cell_type": "markdown",
   "metadata": {},
   "source": [
    "> Open each of these csv files and explore them.\n",
    "> What information is contained in each file?  Specifically, if I had\n",
    "> the following research questions:\n",
    ">\n",
    "> * How has the hindfoot length and weight of *Dipodomys* species changed over time?\n",
    "> * What is the average weight of each species, per year?\n",
    "> * What information can I learn about *Dipodomys* species in the 2000s, over time?\n",
    ">\n",
    "> What would I need to answer these questions?  Which files have the data I need? What\n",
    "> operations would I need to perform if I were doing these analyses by hand?"
   ]
  },
  {
   "cell_type": "markdown",
   "metadata": {
    "tags": []
   },
   "source": [
    "## Goals"
   ]
  },
  {
   "cell_type": "markdown",
   "metadata": {},
   "source": [
    "In order to answer the questions described above, we'll need to do the\n",
    "following basic data operations:\n",
    "\n",
    "* select subsets of the data (rows and columns)\n",
    "* group subsets of data\n",
    "* do math and other calculations\n",
    "* combine data across spreadsheets\n",
    "\n",
    "In addition, we don't want to do this manually!  Instead of searching\n",
    "for the right pieces of data ourselves, or clicking between spreadsheets,\n",
    "or manually sorting columns, we want to make the computer do the work.\n",
    "\n",
    "In particular, we want to use a tool where it's easy to repeat our analysis\n",
    "in case our data changes. We also want to do all this searching without\n",
    "actually modifying our source data.\n",
    "\n",
    "Putting our data into a relational database and using SQL will help us achieve these goals."
   ]
  },
  {
   "cell_type": "markdown",
   "metadata": {
    "tags": []
   },
   "source": [
    "## Definition: *Relational Database*"
   ]
  },
  {
   "cell_type": "markdown",
   "metadata": {},
   "source": [
    "> A relational database stores data in *relations* made up of *records* with *fields*.\n",
    "> The relations are usually represented as *tables*;\n",
    "> each record is usually shown as a row, and the fields as columns.\n",
    "> In most cases, each record will have a unique identifier, called a *key*,\n",
    "> which is stored as one of its fields.\n",
    "> Records may also contain keys that refer to records in other tables,\n",
    "> which enables us to combine information from two or more sources."
   ]
  },
  {
   "cell_type": "markdown",
   "metadata": {
    "tags": []
   },
   "source": [
    "# Databases"
   ]
  },
  {
   "cell_type": "markdown",
   "metadata": {
    "tags": []
   },
   "source": [
    "## Why use relational databases"
   ]
  },
  {
   "cell_type": "markdown",
   "metadata": {},
   "source": [
    "Using a relational database serves several purposes.\n",
    "\n",
    "* It keeps your data separate from your analysis.\n",
    "    * This means there's no risk of accidentally changing data when you analyze it.\n",
    "    * If we get new data we can rerun the query.\n",
    "* It's fast, even for large amounts of data.\n",
    "* It improves quality control of data entry (type constraints and use of forms in MS Access, Filemaker, Oracle Application Express etc.)\n",
    "* The concepts of relational database querying are core to understanding how to do similar things using programming languages such as R or Python."
   ]
  },
  {
   "cell_type": "markdown",
   "metadata": {
    "tags": []
   },
   "source": [
    "## Database Management Systems"
   ]
  },
  {
   "cell_type": "markdown",
   "metadata": {},
   "source": [
    "There are different database management systems to work with relational databases\n",
    "such as SQLite, MySQL, Potsgresql, MSSQL Server, and many more. Each of them differ\n",
    "mainly based on their scalability, but they all share the same core principles of\n",
    "relational databases. In this lesson, we use SQLite to introduce you to SQL and\n",
    "data retrieval from a relational database."
   ]
  },
  {
   "cell_type": "markdown",
   "metadata": {
    "tags": []
   },
   "source": [
    "## Relational databases"
   ]
  },
  {
   "cell_type": "markdown",
   "metadata": {},
   "source": [
    "Let's look at a pre-existing database, the `portal_mammals.sqlite`\n",
    "file from the Portal Project dataset that is included in this lesson.\n",
    "\n",
    "Note: We're going to use [ipython-sql](https://github.com/catherinedevlin/ipython-sql) extension to run SQL commands inside this Jupyter notebook. We load the extension by using `%load_ext`."
   ]
  },
  {
   "cell_type": "code",
   "execution_count": null,
   "metadata": {},
   "outputs": [],
   "source": [
    "%load_ext sql"
   ]
  },
  {
   "cell_type": "markdown",
   "metadata": {},
   "source": [
    "Now `%sql` magic is enabled, and we can connect to the database."
   ]
  },
  {
   "cell_type": "code",
   "execution_count": null,
   "metadata": {},
   "outputs": [],
   "source": [
    "%sql sqlite:///data/portal_mammals.sqlite"
   ]
  },
  {
   "cell_type": "markdown",
   "metadata": {},
   "source": [
    "Not only can we use SQL commands to view information stored in a database, we can also use them to view information _about_ the database (metadata). Specifically we can use the `SELECT` command to see what tables exist in the database."
   ]
  },
  {
   "cell_type": "code",
   "execution_count": null,
   "metadata": {},
   "outputs": [],
   "source": [
    "%%sql\n",
    "SELECT\n",
    "    name\n",
    "FROM\n",
    "    sqlite_master\n",
    "WHERE\n",
    "    type='table'"
   ]
  },
  {
   "cell_type": "markdown",
   "metadata": {},
   "source": [
    "Each item listed here corresponds to one of the `csv` files we were exploring earlier. \n",
    "\n",
    "To see the contents of any table we also use the `SELECT` command."
   ]
  },
  {
   "cell_type": "code",
   "execution_count": null,
   "metadata": {},
   "outputs": [],
   "source": [
    "%%sql\n",
    "SELECT\n",
    "    *\n",
    "FROM\n",
    "    species\n",
    "LIMIT\n",
    "    5"
   ]
  },
  {
   "cell_type": "code",
   "execution_count": null,
   "metadata": {},
   "outputs": [],
   "source": [
    "%%sql\n",
    "SELECT\n",
    "    *\n",
    "FROM\n",
    "    surveys\n",
    "LIMIT\n",
    "    5"
   ]
  },
  {
   "cell_type": "code",
   "execution_count": null,
   "metadata": {},
   "outputs": [],
   "source": [
    "%%sql\n",
    "SELECT\n",
    "    *\n",
    "FROM\n",
    "    plots\n",
    "LIMIT\n",
    "    5"
   ]
  },
  {
   "cell_type": "markdown",
   "metadata": {},
   "source": [
    "This will give us a view that we're used to - a copy of the table. Hopefully this\n",
    "helps to show that a database is, in some sense, just a collection of tables,\n",
    "where there's some value in the tables that allows them to be connected to each\n",
    "other (the \"related\" part of \"relational database\").\n",
    "\n",
    "Besides tables a database can contain views and functions. We'll get to views later in this lesson, and functions are an advanced topic which we won't cover, except for using the SQLite built-in function called `pragma_table_info` to view the structure of a table."
   ]
  },
  {
   "cell_type": "code",
   "execution_count": null,
   "metadata": {},
   "outputs": [],
   "source": [
    "%%sql\n",
    "SELECT\n",
    "    name,\n",
    "    type\n",
    "FROM \n",
    "    pragma_table_info('surveys');"
   ]
  },
  {
   "cell_type": "code",
   "execution_count": null,
   "metadata": {},
   "outputs": [],
   "source": [
    "%%sql\n",
    "SELECT\n",
    "    name,\n",
    "    type\n",
    "FROM \n",
    "    pragma_table_info('species');"
   ]
  },
  {
   "cell_type": "markdown",
   "metadata": {},
   "source": [
    "We see information about the columns, which in databases are referred to as \"fields,\" and their assigned data types.\n",
    "(The rows of a database table are called *records*.) Each field contains one variety or type of data, often numbers or text. You can see in the `surveys` table that most fields contain numbers (BIGINT, or big integer, and FLOAT, or floating point numbers/decimals) while the `species` table is entirely made up of text fields."
   ]
  },
  {
   "cell_type": "markdown",
   "metadata": {
    "tags": []
   },
   "source": [
    "## To summarize"
   ]
  },
  {
   "cell_type": "markdown",
   "metadata": {},
   "source": [
    "* Relational databases store data in tables with fields (columns) and records\n",
    "  (rows)\n",
    "* Data in tables has types, and all values in a field have\n",
    "  the same type ([list of data types](#Data-types))\n",
    "* Queries let us look up data or make calculations based on columns"
   ]
  },
  {
   "cell_type": "markdown",
   "metadata": {
    "tags": []
   },
   "source": [
    "## Database Design"
   ]
  },
  {
   "cell_type": "markdown",
   "metadata": {},
   "source": [
    "* Every row-column combination contains a single *atomic* value, i.e., not\n",
    "   containing parts we might want to work with separately.\n",
    "* One field per type of information\n",
    "* No redundant information\n",
    "    * Split into separate tables with one table per class of information\n",
    "    * Needs an identifier in common between tables – shared column - to\n",
    "       reconnect (known as a *foreign key*)."
   ]
  },
  {
   "cell_type": "markdown",
   "metadata": {
    "tags": []
   },
   "source": [
    "## Import"
   ]
  },
  {
   "cell_type": "markdown",
   "metadata": {},
   "source": [
    "Before we get started with writing our own queries, we'll create our own\n",
    "database.  We'll be creating this database from the three `csv` files\n",
    "we downloaded earlier.\n",
    "\n",
    "We'll create a new database called `data.db`.\n",
    "\n",
    "Note: `.sqlite` and `.db` are common conventions to use for SQLite database files."
   ]
  },
  {
   "cell_type": "markdown",
   "metadata": {
    "jp-MarkdownHeadingCollapsed": true,
    "tags": []
   },
   "source": [
    "### Delete the file if it already exists"
   ]
  },
  {
   "cell_type": "code",
   "execution_count": null,
   "metadata": {},
   "outputs": [],
   "source": [
    "! rm -f data/data.db; ls -l data/"
   ]
  },
  {
   "cell_type": "markdown",
   "metadata": {},
   "source": [
    "### Create the database"
   ]
  },
  {
   "cell_type": "code",
   "execution_count": null,
   "metadata": {},
   "outputs": [],
   "source": [
    "%sql sqlite:///data/data.db"
   ]
  },
  {
   "cell_type": "markdown",
   "metadata": {},
   "source": [
    "If you look in the `data` folder you'll see a new file called `data.db`."
   ]
  },
  {
   "cell_type": "code",
   "execution_count": null,
   "metadata": {},
   "outputs": [],
   "source": [
    "! ls -l data/"
   ]
  },
  {
   "cell_type": "markdown",
   "metadata": {},
   "source": [
    "Note: You can connect to multiple databases at the same time. We can use the `%sql` magic on its own to see what connections we have. The asterisk indicates which database connection is active."
   ]
  },
  {
   "cell_type": "code",
   "execution_count": null,
   "metadata": {},
   "outputs": [],
   "source": [
    "%sql"
   ]
  },
  {
   "cell_type": "code",
   "execution_count": null,
   "metadata": {},
   "outputs": [],
   "source": [
    "%%sql\n",
    "SELECT\n",
    "    name\n",
    "FROM\n",
    "    sqlite_master\n",
    "WHERE\n",
    "    type='table'"
   ]
  },
  {
   "cell_type": "markdown",
   "metadata": {},
   "source": [
    "We're going to create a `surveys` table using the `CREATE TABLE` command."
   ]
  },
  {
   "cell_type": "code",
   "execution_count": null,
   "metadata": {},
   "outputs": [],
   "source": [
    "%%sql\n",
    "CREATE TABLE surveys( \n",
    "    record_id INTEGER, \n",
    "    month INTEGER, \n",
    "    day INTEGER, \n",
    "    year INTEGER, \n",
    "    plot_id INTEGER,\n",
    "    species_id TEXT, \n",
    "    sex TEXT, \n",
    "    hindfoot_length REAL, \n",
    "    weight REAL \n",
    ");"
   ]
  },
  {
   "cell_type": "markdown",
   "metadata": {},
   "source": [
    "Now when we check the metadata for the database we'll see that there is a table called `surveys`."
   ]
  },
  {
   "cell_type": "code",
   "execution_count": null,
   "metadata": {},
   "outputs": [],
   "source": [
    "%%sql\n",
    "SELECT\n",
    "    name\n",
    "FROM\n",
    "    sqlite_master\n",
    "WHERE\n",
    "    type='table'"
   ]
  },
  {
   "cell_type": "markdown",
   "metadata": {},
   "source": [
    "When we check the metadata for the `surveys` table it should look like the table from `portal_mammals.sqlite`."
   ]
  },
  {
   "cell_type": "code",
   "execution_count": null,
   "metadata": {},
   "outputs": [],
   "source": [
    "%%sql\n",
    "SELECT\n",
    "    name,\n",
    "    type\n",
    "FROM \n",
    "    pragma_table_info('surveys');"
   ]
  },
  {
   "cell_type": "markdown",
   "metadata": {},
   "source": [
    "This table is currently empty though."
   ]
  },
  {
   "cell_type": "code",
   "execution_count": null,
   "metadata": {},
   "outputs": [],
   "source": [
    "%%sql\n",
    "SELECT\n",
    "    *\n",
    "FROM\n",
    "    surveys\n",
    "LIMIT\n",
    "    5"
   ]
  },
  {
   "cell_type": "markdown",
   "metadata": {},
   "source": [
    "Let's import the `surveys.csv` file into the `surveys` table.\n",
    "\n",
    "It doesn't matter if you don't understand the details of what happens below, though I'll explain it briefly afterwards."
   ]
  },
  {
   "cell_type": "code",
   "execution_count": null,
   "metadata": {},
   "outputs": [],
   "source": [
    "! echo \"SELECT COUNT(*) FROM surveys\" | sqlite3 -csv -cmd \".import --skip 1 ./data/surveys.csv surveys\" data/data.db"
   ]
  },
  {
   "cell_type": "markdown",
   "metadata": {},
   "source": [
    "The number returned is how many records there are in the `surveys` table. Ensure this matches the number of records in `surveys.csv`.\n",
    "\n",
    "Breaking down the above:\n",
    "\n",
    "1. A cell which starts with an exclamation mark runs in the Unix shell environment (sometimes called 'Bash') using the Jupyter 'shell magic' extension\n",
    "2. The Unix `echo` command takes a string and then 'echoes' it as output. \n",
    "3. In this case the string we 'echo' corresponds to a query which returns the number of records in the `surveys` table - we'll learn more about the `COUNT` SQL function later.\n",
    "4. The Unix pipe character `|` takes the output of `echo` and sends it as input to the `sqlite3` command-line application\n",
    "5. `-csv` tells the `sqlite3` application to work in 'CSV' mode\n",
    "6. `-cmd` tells the `sqlite3` application to run the command following before executing any SQL commands passed in (from `echo` in this case)\n",
    "7. `.import` is a SQL command used to import files\n",
    "8. We use `--skip 1` argument for `.import` in order to skip the first row of the CSV file, because it contains the headings and we don't want the headings to show up as a record in our table\n",
    "9. `./data/surveys.csv` specifies the location of the CSV file we're importing\n",
    "10. `surveys` specifies the table to import data in to\n",
    "11. The `data/data.db` parameter tells `sqlite3` which database file to use"
   ]
  },
  {
   "cell_type": "code",
   "execution_count": null,
   "metadata": {},
   "outputs": [],
   "source": [
    "%%sql\n",
    "SELECT\n",
    "    *\n",
    "FROM\n",
    "    surveys\n",
    "LIMIT\n",
    "    5"
   ]
  },
  {
   "cell_type": "markdown",
   "metadata": {
    "tags": []
   },
   "source": [
    "## Challenge"
   ]
  },
  {
   "cell_type": "markdown",
   "metadata": {},
   "source": [
    "> - Import the `plots` and `species` tables"
   ]
  },
  {
   "cell_type": "markdown",
   "metadata": {
    "jp-MarkdownHeadingCollapsed": true,
    "tags": []
   },
   "source": [
    "### Solution"
   ]
  },
  {
   "cell_type": "code",
   "execution_count": null,
   "metadata": {},
   "outputs": [],
   "source": [
    "%%sql\n",
    "CREATE TABLE plots( \n",
    "    plot_id INTEGER, \n",
    "    plot_type TEXT \n",
    ");"
   ]
  },
  {
   "cell_type": "code",
   "execution_count": null,
   "metadata": {},
   "outputs": [],
   "source": [
    "%%sql\n",
    "CREATE TABLE species( \n",
    "    species_id TEXT, \n",
    "    genus TEXT, \n",
    "    species TEXT, \n",
    "    taxa TEXT \n",
    ");"
   ]
  },
  {
   "cell_type": "code",
   "execution_count": null,
   "metadata": {},
   "outputs": [],
   "source": [
    "%%sql\n",
    "SELECT\n",
    "    name\n",
    "FROM\n",
    "    sqlite_master\n",
    "WHERE\n",
    "    type='table'"
   ]
  },
  {
   "cell_type": "code",
   "execution_count": null,
   "metadata": {},
   "outputs": [],
   "source": [
    "%%sql\n",
    "SELECT\n",
    "    name,\n",
    "    type\n",
    "FROM \n",
    "    pragma_table_info('plots');"
   ]
  },
  {
   "cell_type": "code",
   "execution_count": null,
   "metadata": {},
   "outputs": [],
   "source": [
    "%%sql\n",
    "SELECT\n",
    "    name,\n",
    "    type\n",
    "FROM \n",
    "    pragma_table_info('species');"
   ]
  },
  {
   "cell_type": "code",
   "execution_count": null,
   "metadata": {},
   "outputs": [],
   "source": [
    "! echo \"SELECT COUNT(*) FROM plots\" | sqlite3 -csv -cmd \".import --skip 1 data/plots.csv plots\" data/data.db"
   ]
  },
  {
   "cell_type": "code",
   "execution_count": null,
   "metadata": {},
   "outputs": [],
   "source": [
    "! echo \"SELECT COUNT(*) FROM species\" | sqlite3 -csv -cmd \".import --skip 1 data/species.csv species\" data/data.db"
   ]
  },
  {
   "cell_type": "code",
   "execution_count": null,
   "metadata": {},
   "outputs": [],
   "source": [
    "%%sql\n",
    "SELECT\n",
    "    *\n",
    "FROM\n",
    "    plots\n",
    "LIMIT\n",
    "    5"
   ]
  },
  {
   "cell_type": "code",
   "execution_count": null,
   "metadata": {},
   "outputs": [],
   "source": [
    "%%sql\n",
    "SELECT\n",
    "    *\n",
    "FROM\n",
    "    species\n",
    "LIMIT\n",
    "    5"
   ]
  },
  {
   "cell_type": "markdown",
   "metadata": {
    "tags": []
   },
   "source": [
    "## Adding fields to existing tables"
   ]
  },
  {
   "cell_type": "markdown",
   "metadata": {},
   "source": [
    "You can use the SQL command `ALTER TABLE <table-name> ADD COLUMN <column-name> <column-details>` to add fields to a table.\n",
    "\n",
    "For example to add a new field called `common_name` to species:"
   ]
  },
  {
   "cell_type": "code",
   "execution_count": null,
   "metadata": {},
   "outputs": [],
   "source": [
    "%%sql\n",
    "ALTER TABLE species add COLUMN common_name TEXT"
   ]
  },
  {
   "cell_type": "code",
   "execution_count": null,
   "metadata": {},
   "outputs": [],
   "source": [
    "%%sql\n",
    "SELECT \n",
    "    * \n",
    "FROM\n",
    "    species\n",
    "LIMIT\n",
    "    5;"
   ]
  },
  {
   "cell_type": "markdown",
   "metadata": {},
   "source": [
    "Likewise to remove a field:"
   ]
  },
  {
   "cell_type": "code",
   "execution_count": null,
   "metadata": {},
   "outputs": [],
   "source": [
    "%%sql\n",
    "ALTER TABLE species drop COLUMN common_name"
   ]
  },
  {
   "cell_type": "markdown",
   "metadata": {
    "tags": []
   },
   "source": [
    "## Data types"
   ]
  },
  {
   "cell_type": "markdown",
   "metadata": {},
   "source": [
    "| Data type                          | Description                                                                                              |\n",
    "|------------------------------------|:---------------------------------------------------------------------------------------------------------|\n",
    "| CHARACTER(n)                       | Character string. Fixed-length n                                                                         |\n",
    "| VARCHAR(n) or CHARACTER VARYING(n) | Character string. Variable length. Maximum length n                                                      |\n",
    "| BINARY(n)                          | Binary string. Fixed-length n                                                                            |\n",
    "| BOOLEAN                            | Stores TRUE or FALSE values                                                                              |\n",
    "| VARBINARY(n) or BINARY VARYING(n)  | Binary string. Variable length. Maximum length n                                                         |\n",
    "| INTEGER(p)                         | Integer numerical (no decimal).                                                                          |\n",
    "| SMALLINT                           | Integer numerical (no decimal).                                                                          |\n",
    "| INTEGER                            | Integer numerical (no decimal).                                                                          |\n",
    "| BIGINT                             | Integer numerical (no decimal).                                                                          |\n",
    "| DECIMAL(p,s)                       | Exact numerical, precision p, scale s.                                                                   |\n",
    "| NUMERIC(p,s)                       | Exact numerical, precision p, scale s. (Same as DECIMAL)                                                 |\n",
    "| FLOAT(p)                           | Approximate numerical, mantissa precision p. A floating number in base 10 exponential notation.          |\n",
    "| REAL                               | Approximate numerical                                                                                    |\n",
    "| FLOAT                              | Approximate numerical                                                                                    |\n",
    "| DOUBLE PRECISION                   | Approximate numerical                                                                                    |\n",
    "| DATE                               | Stores year, month, and day values                                                                       |\n",
    "| TIME                               | Stores hour, minute, and second values                                                                   |\n",
    "| TIMESTAMP                          | Stores year, month, day, hour, minute, and second values                                                 |\n",
    "| INTERVAL                           | Composed of a number of integer fields, representing a period of time, depending on the type of interval |\n",
    "| ARRAY                              | A set-length and ordered collection of elements                                                          |\n",
    "| MULTISET                           | A variable-length and unordered collection of elements                                                   |\n",
    "| XML                                | Stores XML data                                                                                          |"
   ]
  },
  {
   "cell_type": "markdown",
   "metadata": {
    "tags": []
   },
   "source": [
    "## SQL Data Type Quick Reference"
   ]
  },
  {
   "cell_type": "markdown",
   "metadata": {},
   "source": [
    "Different databases offer different choices for the data type definition.\n",
    "\n",
    "The following table shows some of the common names of data types between the various database platforms:\n",
    "\n",
    "| Data type                                               | Access                    | SQLServer            | Oracle             | MySQL          | PostgreSQL    |\n",
    "|:--------------------------------------------------------|:--------------------------|:---------------------|:-------------------|:---------------|:--------------|\n",
    "| boolean                                                 | Yes/No                    | Bit                  | Byte               | N/A            | Boolean       |\n",
    "| integer                                                 | Number (integer)          | Int                  | Number             | Int / Integer  | Int / Integer |\n",
    "| float                                                   | Number (single)           | Float / Real         | Number             | Float          | Numeric       |\n",
    "| currency                                                | Currency                  | Money                | N/A                | N/A            | Money         |\n",
    "| string (fixed)                                          | N/A                       | Char                 | Char               | Char           | Char          |\n",
    "| string (variable)                                       | Text (<256) / Memo (65k+) | Varchar              | Varchar2 | Varchar        | Varchar       |\n",
    "| binary object\tOLE Object Memo\tBinary (fixed up to 8K)   | Varbinary (<8K)           | Image (<2GB)\tLong | Raw\tBlob          | Text\tBinary | Varbinary     |"
   ]
  },
  {
   "cell_type": "markdown",
   "metadata": {},
   "source": [
    "## End of episode"
   ]
  }
 ],
 "metadata": {
  "kernelspec": {
   "display_name": "Python 3 (ipykernel)",
   "language": "python",
   "name": "python3"
  },
  "language_info": {
   "codemirror_mode": {
    "name": "ipython",
    "version": 3
   },
   "file_extension": ".py",
   "mimetype": "text/x-python",
   "name": "python",
   "nbconvert_exporter": "python",
   "pygments_lexer": "ipython3",
   "version": "3.7.10"
  }
 },
 "nbformat": 4,
 "nbformat_minor": 4
}

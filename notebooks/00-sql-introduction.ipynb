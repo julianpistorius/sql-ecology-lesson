{
 "cells": [
  {
   "cell_type": "markdown",
   "metadata": {
    "tags": []
   },
   "source": [
    "# Introducing Databases and SQL"
   ]
  },
  {
   "cell_type": "markdown",
   "metadata": {
    "jp-MarkdownHeadingCollapsed": true,
    "tags": []
   },
   "source": [
    "## Overview"
   ]
  },
  {
   "cell_type": "markdown",
   "metadata": {
    "jp-MarkdownHeadingCollapsed": true,
    "tags": []
   },
   "source": [
    "Teaching: 60  \n",
    "Exercises: 5  \n",
    "\n",
    "### Questions\n",
    "\n",
    "- \"What is a relational database and why should I use it?\"\n",
    "- \"What is SQL?\"\n",
    "\n",
    "### Objectives\n",
    "\n",
    "- \"Describe why relational databases are useful.\"\n",
    "- \"Create and populate a database from a text file.\"\n",
    "- \"Define SQLite data types.\"\n",
    "\n",
    "### Key points\n",
    "\n",
    "- \"SQL allows us to select and group subsets of data, do math and other calculations, and combine data.\"\n",
    "- \"A relational database is made up of tables which are related to each other by shared keys.\"\n",
    "- \"Different database management systems (DBMS) use slightly different vocabulary, but they are all based on the same ideas.\""
   ]
  },
  {
   "cell_type": "markdown",
   "metadata": {
    "jp-MarkdownHeadingCollapsed": true,
    "tags": []
   },
   "source": [
    "# Motivation"
   ]
  },
  {
   "cell_type": "markdown",
   "metadata": {},
   "source": [
    "To start, let's orient ourselves in our project workflow.  Previously,\n",
    "we used Excel and OpenRefine to go from messy, human created data\n",
    "to cleaned, computer-readable data.  Now we're going to move to the next piece\n",
    "of the data workflow, using the computer to read in our data, and then\n",
    "use it for analysis and visualization."
   ]
  },
  {
   "cell_type": "markdown",
   "metadata": {
    "jp-MarkdownHeadingCollapsed": true,
    "tags": []
   },
   "source": [
    "## What is SQL?"
   ]
  },
  {
   "cell_type": "markdown",
   "metadata": {},
   "source": [
    "SQL stands for Structured Query Language. SQL allows us to interact with relational databases through queries.\n",
    "These queries can allow you to perform a number of actions such as: insert, select, update and delete information in a database."
   ]
  },
  {
   "cell_type": "markdown",
   "metadata": {
    "jp-MarkdownHeadingCollapsed": true,
    "tags": []
   },
   "source": [
    "## Dataset Description"
   ]
  },
  {
   "cell_type": "markdown",
   "metadata": {},
   "source": [
    "The data we will be using is a time-series for a small mammal community in\n",
    "southern Arizona. This is part of a project studying the effects of rodents and\n",
    "ants on the plant community that has been running for almost 40 years.  The\n",
    "rodents are sampled on a series of 24 plots, with different experimental\n",
    "manipulations controlling which rodents are allowed to access which plots.\n",
    "\n",
    "This is a real dataset that has been used in over 100 publications. We've\n",
    "simplified it for the workshop, but you can download the\n",
    "[full dataset](http://esapubs.org/archive/ecol/E090/118/) and work with it using\n",
    "exactly the same tools we'll learn about today."
   ]
  },
  {
   "cell_type": "markdown",
   "metadata": {
    "jp-MarkdownHeadingCollapsed": true,
    "tags": []
   },
   "source": [
    "## Questions"
   ]
  },
  {
   "cell_type": "markdown",
   "metadata": {},
   "source": [
    "Let's look at some of the cleaned spreadsheets needed to complete this challenge. See the following three files in the `data` folder:\n",
    "\n",
    "* [`data/surveys.csv`](/edit/notebooks/data/surveys.csv)\n",
    "* [`data/species.csv`](/edit/notebooks/data/species.csv)\n",
    "* [`data/plots.csv`](/edit/notebooks/data/plots.csv)"
   ]
  },
  {
   "cell_type": "markdown",
   "metadata": {
    "jp-MarkdownHeadingCollapsed": true,
    "tags": []
   },
   "source": [
    "## Challenge"
   ]
  },
  {
   "cell_type": "markdown",
   "metadata": {},
   "source": [
    "> Open each of these csv files and explore them.\n",
    "> What information is contained in each file?  Specifically, if I had\n",
    "> the following research questions:\n",
    ">\n",
    "> * How has the hindfoot length and weight of *Dipodomys* species changed over time?\n",
    "> * What is the average weight of each species, per year?\n",
    "> * What information can I learn about *Dipodomys* species in the 2000s, over time?\n",
    ">\n",
    "> What would I need to answer these questions?  Which files have the data I need? What\n",
    "> operations would I need to perform if I were doing these analyses by hand?"
   ]
  },
  {
   "cell_type": "markdown",
   "metadata": {
    "jp-MarkdownHeadingCollapsed": true,
    "tags": []
   },
   "source": [
    "## Goals"
   ]
  },
  {
   "cell_type": "markdown",
   "metadata": {},
   "source": [
    "In order to answer the questions described above, we'll need to do the\n",
    "following basic data operations:\n",
    "\n",
    "* select subsets of the data (rows and columns)\n",
    "* group subsets of data\n",
    "* do math and other calculations\n",
    "* combine data across spreadsheets\n",
    "\n",
    "In addition, we don't want to do this manually!  Instead of searching\n",
    "for the right pieces of data ourselves, or clicking between spreadsheets,\n",
    "or manually sorting columns, we want to make the computer do the work.\n",
    "\n",
    "In particular, we want to use a tool where it's easy to repeat our analysis\n",
    "in case our data changes. We also want to do all this searching without\n",
    "actually modifying our source data.\n",
    "\n",
    "Putting our data into a relational database and using SQL will help us achieve these goals."
   ]
  },
  {
   "cell_type": "markdown",
   "metadata": {
    "jp-MarkdownHeadingCollapsed": true,
    "tags": []
   },
   "source": [
    "## Definition: *Relational Database*"
   ]
  },
  {
   "cell_type": "markdown",
   "metadata": {},
   "source": [
    "> A relational database stores data in *relations* made up of *records* with *fields*.\n",
    "> The relations are usually represented as *tables*;\n",
    "> each record is usually shown as a row, and the fields as columns.\n",
    "> In most cases, each record will have a unique identifier, called a *key*,\n",
    "> which is stored as one of its fields.\n",
    "> Records may also contain keys that refer to records in other tables,\n",
    "> which enables us to combine information from two or more sources."
   ]
  },
  {
   "cell_type": "markdown",
   "metadata": {
    "tags": []
   },
   "source": [
    "# Databases"
   ]
  },
  {
   "cell_type": "markdown",
   "metadata": {
    "jp-MarkdownHeadingCollapsed": true,
    "tags": []
   },
   "source": [
    "## Why use relational databases"
   ]
  },
  {
   "cell_type": "markdown",
   "metadata": {},
   "source": [
    "Using a relational database serves several purposes.\n",
    "\n",
    "* It keeps your data separate from your analysis.\n",
    "    * This means there's no risk of accidentally changing data when you analyze it.\n",
    "    * If we get new data we can rerun the query.\n",
    "* It's fast, even for large amounts of data.\n",
    "* It improves quality control of data entry (type constraints and use of forms in MS Access, Filemaker, Oracle Application Express etc.)\n",
    "* The concepts of relational database querying are core to understanding how to do similar things using programming languages such as R or Python."
   ]
  },
  {
   "cell_type": "markdown",
   "metadata": {
    "jp-MarkdownHeadingCollapsed": true,
    "tags": []
   },
   "source": [
    "## Database Management Systems"
   ]
  },
  {
   "cell_type": "markdown",
   "metadata": {},
   "source": [
    "There are different database management systems to work with relational databases\n",
    "such as SQLite, MySQL, Potsgresql, MSSQL Server, and many more. Each of them differ\n",
    "mainly based on their scalability, but they all share the same core principles of\n",
    "relational databases. In this lesson, we use SQLite to introduce you to SQL and\n",
    "data retrieval from a relational database."
   ]
  },
  {
   "cell_type": "markdown",
   "metadata": {
    "jp-MarkdownHeadingCollapsed": true,
    "tags": []
   },
   "source": [
    "## Relational databases"
   ]
  },
  {
   "cell_type": "markdown",
   "metadata": {},
   "source": [
    "Let's look at a pre-existing database, the `portal_mammals.sqlite`\n",
    "file from the Portal Project dataset that we downloaded during\n",
    "[Setup](/sql-ecology-lesson/setup.html). Click on the \"Open Database\" button, select the portal_mammals.sqlite file, and click \"Open\" to open the database.\n",
    "\n",
    "You can see the tables in the database by looking at the left hand side of the\n",
    "screen under Database Structure tab. Here you will see a list under \"Tables.\" Each item listed here corresponds to one of the `csv` files\n",
    "we were exploring earlier. To see the contents of any table, click on it, and\n",
    "then click the “Browse Data” tab next to the \"Database Structure\" tab. This will\n",
    "give us a view that we're used to - a copy of the table. Hopefully this\n",
    "helps to show that a database is, in some sense, just a collection of tables,\n",
    "where there's some value in the tables that allows them to be connected to each\n",
    "other (the \"related\" part of \"relational database\").\n",
    "\n",
    "The \"Database Structure\" tab also provides some metadata about each table. If you click on the down arrow next to a table name, you will see information about the columns, which in databases are referred to as \"fields,\" and their assigned data types.\n",
    "(The rows of a database table\n",
    "are called *records*.) Each field contains\n",
    "one variety or type of data, often numbers or text. You can see in the\n",
    "`surveys` table that most fields contain numbers (BIGINT, or big integer, and FLOAT, or floating point numbers/decimals) while the `species`\n",
    "table is entirely made up of text fields.\n",
    "\n",
    "The \"Execute SQL\" tab is blank now - this is where we'll be typing our queries\n",
    "to retrieve information from the database tables."
   ]
  },
  {
   "cell_type": "markdown",
   "metadata": {
    "jp-MarkdownHeadingCollapsed": true,
    "tags": []
   },
   "source": [
    "## To summarize"
   ]
  },
  {
   "cell_type": "markdown",
   "metadata": {},
   "source": [
    "* Relational databases store data in tables with fields (columns) and records\n",
    "  (rows)\n",
    "* Data in tables has types, and all values in a field have\n",
    "  the same type ([list of data types](#datatypes))\n",
    "* Queries let us look up data or make calculations based on columns"
   ]
  },
  {
   "cell_type": "markdown",
   "metadata": {
    "jp-MarkdownHeadingCollapsed": true,
    "tags": []
   },
   "source": [
    "## Database Design"
   ]
  },
  {
   "cell_type": "markdown",
   "metadata": {},
   "source": [
    "* Every row-column combination contains a single *atomic* value, i.e., not\n",
    "   containing parts we might want to work with separately.\n",
    "* One field per type of information\n",
    "* No redundant information\n",
    "    * Split into separate tables with one table per class of information\n",
    "    * Needs an identifier in common between tables – shared column - to\n",
    "       reconnect (known as a *foreign key*)."
   ]
  },
  {
   "cell_type": "markdown",
   "metadata": {
    "jp-MarkdownHeadingCollapsed": true,
    "tags": []
   },
   "source": [
    "## Import"
   ]
  },
  {
   "cell_type": "markdown",
   "metadata": {},
   "source": [
    "Before we get started with writing our own queries, we'll create our own\n",
    "database.  We'll be creating this database from the three `csv` files\n",
    "we downloaded earlier.  Close the currently open database (**File > Close Database**) and then\n",
    "follow these instructions:\n",
    "\n",
    "1. Start a New Database\n",
    "    - Click the **New Database** button\n",
    "    - Give a name and click Save to create the database in the opened folder\n",
    "    - In the \"Edit table definition\" window that pops up, click cancel as we will be importing tables, not creating them from scratch\n",
    "2. Select **File >> Import >> Table from CSV file...**\n",
    "3. Choose `surveys.csv` from the data folder we downloaded and click **Open**.\n",
    "4. Give the table a name that matches the file name (`surveys`), or use the default\n",
    "5. If the first row has column headings, be sure to check the box next to \"Column names in first line\".\n",
    "6. Be sure the field separator and quotation options are correct. If you're not sure which options are correct, test some of the options until the preview at the bottom of the window looks right.\n",
    "7. Press **OK**, you should subsequently get a message that the table was imported.\n",
    "9. Back on the Database Structure tab, you should now see the table listed. Right click on the table name and choose **Modify Table**, or click on the **Modify Table** button just under the tabs and above the table list.\n",
    "10. Click **Save** if asked to save all pending changes.\n",
    "11. In the center panel of the window that appears, set the data types for each field using the suggestions in the table below (this includes fields from the `plots` and `species` tables also):\n",
    "\n",
    "| Field             | Data Type      | Motivation                                                                       | Table(s)          |\n",
    "|-------------------|:---------------|----------------------------------------------------------------------------------|-------------------|\n",
    "| day               | INTEGER        | Having data as numeric allows for meaningful arithmetic and comparisons          | surveys           |\n",
    "| genus             | TEXT           | Field contains text data                                                 \t| species           |\n",
    "| hindfoot_length   | REAL           | Field contains measured numeric data                                             | surveys           |\n",
    "| month             | INTEGER        | Having data as numeric allows for meaningful arithmetic and comparisons          | surveys           |\n",
    "| plot_id           | INTEGER        | Field contains numeric data\t    \t\t\t\t\t\t| plots, surveys    |\n",
    "| plot_type         | TEXT           | Field contains text data                                                 \t| plots             |\n",
    "| record_id         | INTEGER        | Field contains numeric data \t\t\t\t\t\t\t| surveys           |\n",
    "| sex               | TEXT           | Field contains text data                                                 \t| surveys           |\n",
    "| species_id        | TEXT           | Field contains text data\t\t\t\t\t\t\t\t| species, surveys  |\n",
    "| species           | TEXT           | Field contains text data                                                 \t| species           |\n",
    "| taxa              | TEXT           | Field contains text data                                                 \t| species           |\n",
    "| weight            | REAL           | Field contains measured numerical data                                           | surveys           |\n",
    "| year              | INTEGER        | Allows for meaningful arithmetic and comparisons                                 | surveys           |\n",
    "\n",
    "12. Finally, click **OK** one more time to confirm the operation. Then click the **Write Changes** button to save the database.\n",
    "\n",
    "You can also use this same approach to append new fields to an existing table."
   ]
  },
  {
   "cell_type": "markdown",
   "metadata": {
    "jp-MarkdownHeadingCollapsed": true,
    "tags": []
   },
   "source": [
    "## Challenge"
   ]
  },
  {
   "cell_type": "markdown",
   "metadata": {},
   "source": [
    "> - Import the `plots` and `species` tables"
   ]
  },
  {
   "cell_type": "markdown",
   "metadata": {
    "jp-MarkdownHeadingCollapsed": true,
    "tags": []
   },
   "source": [
    "## Adding fields to existing tables"
   ]
  },
  {
   "cell_type": "markdown",
   "metadata": {},
   "source": [
    "1. Go to the \"Database Structure\" tab, right click on the table you'd like to add data to, and choose **Modify Table**, or click on the **Modify Table** just under the tabs and above the table.\n",
    "2. Click the **Add Field** button to add a new field and assign it a data type."
   ]
  },
  {
   "cell_type": "markdown",
   "metadata": {
    "jp-MarkdownHeadingCollapsed": true,
    "tags": []
   },
   "source": [
    "## Data types"
   ]
  },
  {
   "cell_type": "markdown",
   "metadata": {},
   "source": [
    "| Data type                          | Description                                                                                              |\n",
    "|------------------------------------|:---------------------------------------------------------------------------------------------------------|\n",
    "| CHARACTER(n)                       | Character string. Fixed-length n                                                                         |\n",
    "| VARCHAR(n) or CHARACTER VARYING(n) | Character string. Variable length. Maximum length n                                                      |\n",
    "| BINARY(n)                          | Binary string. Fixed-length n                                                                            |\n",
    "| BOOLEAN                            | Stores TRUE or FALSE values                                                                              |\n",
    "| VARBINARY(n) or BINARY VARYING(n)  | Binary string. Variable length. Maximum length n                                                         |\n",
    "| INTEGER(p)                         | Integer numerical (no decimal).                                                                          |\n",
    "| SMALLINT                           | Integer numerical (no decimal).                                                                          |\n",
    "| INTEGER                            | Integer numerical (no decimal).                                                                          |\n",
    "| BIGINT                             | Integer numerical (no decimal).                                                                          |\n",
    "| DECIMAL(p,s)                       | Exact numerical, precision p, scale s.                                                                   |\n",
    "| NUMERIC(p,s)                       | Exact numerical, precision p, scale s. (Same as DECIMAL)                                                 |\n",
    "| FLOAT(p)                           | Approximate numerical, mantissa precision p. A floating number in base 10 exponential notation.          |\n",
    "| REAL                               | Approximate numerical                                                                                    |\n",
    "| FLOAT                              | Approximate numerical                                                                                    |\n",
    "| DOUBLE PRECISION                   | Approximate numerical                                                                                    |\n",
    "| DATE                               | Stores year, month, and day values                                                                       |\n",
    "| TIME                               | Stores hour, minute, and second values                                                                   |\n",
    "| TIMESTAMP                          | Stores year, month, day, hour, minute, and second values                                                 |\n",
    "| INTERVAL                           | Composed of a number of integer fields, representing a period of time, depending on the type of interval |\n",
    "| ARRAY                              | A set-length and ordered collection of elements                                                          |\n",
    "| MULTISET                           | A variable-length and unordered collection of elements                                                   |\n",
    "| XML                                | Stores XML data                                                                                          |"
   ]
  },
  {
   "cell_type": "markdown",
   "metadata": {
    "jp-MarkdownHeadingCollapsed": true,
    "tags": []
   },
   "source": [
    "## SQL Data Type Quick Reference"
   ]
  },
  {
   "cell_type": "markdown",
   "metadata": {},
   "source": [
    "Different databases offer different choices for the data type definition.\n",
    "\n",
    "The following table shows some of the common names of data types between the various database platforms:\n",
    "\n",
    "| Data type                                               | Access                    | SQLServer            | Oracle             | MySQL          | PostgreSQL    |\n",
    "|:--------------------------------------------------------|:--------------------------|:---------------------|:-------------------|:---------------|:--------------|\n",
    "| boolean                                                 | Yes/No                    | Bit                  | Byte               | N/A            | Boolean       |\n",
    "| integer                                                 | Number (integer)          | Int                  | Number             | Int / Integer  | Int / Integer |\n",
    "| float                                                   | Number (single)           | Float / Real         | Number             | Float          | Numeric       |\n",
    "| currency                                                | Currency                  | Money                | N/A                | N/A            | Money         |\n",
    "| string (fixed)                                          | N/A                       | Char                 | Char               | Char           | Char          |\n",
    "| string (variable)                                       | Text (<256) / Memo (65k+) | Varchar              | Varchar2 | Varchar        | Varchar       |\n",
    "| binary object\tOLE Object Memo\tBinary (fixed up to 8K)   | Varbinary (<8K)           | Image (<2GB)\tLong | Raw\tBlob          | Text\tBinary | Varbinary     |"
   ]
  },
  {
   "cell_type": "markdown",
   "metadata": {
    "jp-MarkdownHeadingCollapsed": true,
    "tags": []
   },
   "source": [
    "# Scratch"
   ]
  },
  {
   "cell_type": "code",
   "execution_count": null,
   "metadata": {},
   "outputs": [],
   "source": [
    "%load_ext sql"
   ]
  },
  {
   "cell_type": "code",
   "execution_count": null,
   "metadata": {},
   "outputs": [],
   "source": [
    "! rm ./data/data.db"
   ]
  },
  {
   "cell_type": "code",
   "execution_count": null,
   "metadata": {},
   "outputs": [],
   "source": [
    "%sql sqlite:///./data/data.db"
   ]
  },
  {
   "cell_type": "code",
   "execution_count": null,
   "metadata": {},
   "outputs": [],
   "source": [
    "%%sql\n",
    "SELECT\n",
    "    name\n",
    "FROM\n",
    "    sqlite_master\n",
    "WHERE\n",
    "    type='table'"
   ]
  },
  {
   "cell_type": "code",
   "execution_count": null,
   "metadata": {},
   "outputs": [],
   "source": [
    "%%sql\n",
    "DROP TABLE IF EXISTS surveys;\n",
    "CREATE TABLE surveys( \n",
    "    record_id INTEGER, \n",
    "    month INTEGER, \n",
    "    day INTEGER, \n",
    "    year INTEGER, \n",
    "    plot_id INTEGER,\n",
    "    species_id TEXT, \n",
    "    sex TEXT, \n",
    "    hindfoot_length REAL, \n",
    "    weight REAL \n",
    ");"
   ]
  },
  {
   "cell_type": "code",
   "execution_count": null,
   "metadata": {},
   "outputs": [],
   "source": [
    "%%sql\n",
    "SELECT\n",
    "    name\n",
    "FROM\n",
    "    sqlite_master\n",
    "WHERE\n",
    "    type='table'"
   ]
  },
  {
   "cell_type": "code",
   "execution_count": null,
   "metadata": {},
   "outputs": [],
   "source": [
    "%%sql\n",
    "PRAGMA table_info(surveys);"
   ]
  },
  {
   "cell_type": "markdown",
   "metadata": {},
   "source": [
    "> ## Challenge\n",
    ">\n",
    "> - Create the `plots` and `species` tables"
   ]
  },
  {
   "cell_type": "code",
   "execution_count": null,
   "metadata": {},
   "outputs": [],
   "source": [
    "## Specify the columns\n",
    "%%sql\n",
    "DROP TABLE IF EXISTS plots;\n",
    "CREATE TABLE plots( \n",
    "    \n",
    ");"
   ]
  },
  {
   "cell_type": "code",
   "execution_count": null,
   "metadata": {},
   "outputs": [],
   "source": [
    "%%sql\n",
    "DELETE FROM species"
   ]
  },
  {
   "cell_type": "code",
   "execution_count": null,
   "metadata": {},
   "outputs": [],
   "source": [
    "! echo \"SELECT COUNT(*) FROM species\" | sqlite3 -csv -cmd \".import --skip 1 ../data/species.csv species\" ../data/data.db"
   ]
  },
  {
   "cell_type": "code",
   "execution_count": null,
   "metadata": {},
   "outputs": [],
   "source": [
    "%%sql\n",
    "SELECT\n",
    "    *\n",
    "FROM\n",
    "    species"
   ]
  },
  {
   "cell_type": "code",
   "execution_count": null,
   "metadata": {},
   "outputs": [],
   "source": []
  },
  {
   "cell_type": "code",
   "execution_count": null,
   "metadata": {},
   "outputs": [],
   "source": [
    "%sql --file test-query.sql"
   ]
  },
  {
   "cell_type": "code",
   "execution_count": null,
   "metadata": {},
   "outputs": [],
   "source": [
    "%sql DROP TABLE IF EXISTS plots;"
   ]
  },
  {
   "cell_type": "code",
   "execution_count": null,
   "metadata": {},
   "outputs": [],
   "source": []
  }
 ],
 "metadata": {
  "kernelspec": {
   "display_name": "Python 3 (ipykernel)",
   "language": "python",
   "name": "python3"
  },
  "language_info": {
   "codemirror_mode": {
    "name": "ipython",
    "version": 3
   },
   "file_extension": ".py",
   "mimetype": "text/x-python",
   "name": "python",
   "nbconvert_exporter": "python",
   "pygments_lexer": "ipython3",
   "version": "3.7.10"
  }
 },
 "nbformat": 4,
 "nbformat_minor": 4
}

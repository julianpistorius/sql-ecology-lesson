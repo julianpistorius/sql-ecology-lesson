{
 "cells": [
  {
   "cell_type": "markdown",
   "metadata": {},
   "source": [
    "# Introducing Databases and SQL\n",
    "\n",
    "teaching: 60\n",
    "exercises: 5\n",
    "\n",
    "## Questions\n",
    "\n",
    "- \"What is a relational database and why should I use it?\"\n",
    "- \"What is SQL?\"\n",
    "\n",
    "## Objectives\n",
    "\n",
    "- \"Describe why relational databases are useful.\"\n",
    "- \"Create and populate a database from a text file.\"\n",
    "- \"Define SQLite data types.\"\n",
    "\n",
    "## Key points\n",
    "\n",
    "- \"SQL allows us to select and group subsets of data, do math and other calculations, and combine data.\"\n",
    "- \"A relational database is made up of tables which are related to each other by shared keys.\"\n",
    "- \"Different database management systems (DBMS) use slightly different vocabulary, but they are all based on the same ideas.\""
   ]
  },
  {
   "cell_type": "markdown",
   "metadata": {},
   "source": [
    "# Motivation\n",
    "\n",
    "To start, let's orient ourselves in our project workflow.  Previously,\n",
    "we used Excel and OpenRefine to go from messy, human created data\n",
    "to cleaned, computer-readable data.  Now we're going to move to the next piece\n",
    "of the data workflow, using the computer to read in our data, and then\n",
    "use it for analysis and visualization.\n",
    "\n",
    "## What is SQL?\n",
    "\n",
    "SQL stands for Structured Query Language. SQL allows us to interact with relational databases through queries.\n",
    "These queries can allow you to perform a number of actions such as: insert, select, update and delete information in a database.\n",
    "\n",
    "\n",
    "## Dataset Description\n",
    "\n",
    "The data we will be using is a time-series for a small mammal community in\n",
    "southern Arizona. This is part of a project studying the effects of rodents and\n",
    "ants on the plant community that has been running for almost 40 years.  The\n",
    "rodents are sampled on a series of 24 plots, with different experimental\n",
    "manipulations controlling which rodents are allowed to access which plots.\n",
    "\n",
    "This is a real dataset that has been used in over 100 publications. We've\n",
    "simplified it for the workshop, but you can download the\n",
    "[full dataset](http://esapubs.org/archive/ecol/E090/118/) and work with it using\n",
    "exactly the same tools we'll learn about today.\n",
    "\n",
    "## Questions\n",
    "\n",
    "Let's look at some of the cleaned spreadsheets you downloaded during [Setup](../setup.html) to complete this challenge. You'll need the following three files:\n",
    "\n",
    "* `surveys.csv`\n",
    "* `species.csv`\n",
    "* `plots.csv`"
   ]
  },
  {
   "cell_type": "code",
   "execution_count": null,
   "metadata": {},
   "outputs": [],
   "source": []
  },
  {
   "cell_type": "code",
   "execution_count": null,
   "metadata": {},
   "outputs": [],
   "source": [
    "%load_ext sql"
   ]
  },
  {
   "cell_type": "code",
   "execution_count": null,
   "metadata": {},
   "outputs": [],
   "source": [
    "%sql sqlite:///../data/data.db"
   ]
  },
  {
   "cell_type": "code",
   "execution_count": null,
   "metadata": {},
   "outputs": [],
   "source": [
    "%%sql\n",
    "DROP TABLE IF EXISTS surveys;\n",
    "CREATE TABLE surveys( \n",
    "    record_id INTEGER, \n",
    "    month INTEGER, \n",
    "    day INTEGER, \n",
    "    year INTEGER, \n",
    "    plot_id INTEGER,\n",
    "    species_id TEXT, \n",
    "    sex TEXT, \n",
    "    hindfoot_length REAL, \n",
    "    weight REAL );"
   ]
  },
  {
   "cell_type": "markdown",
   "metadata": {},
   "source": [
    "> ## Challenge\n",
    ">\n",
    "> - Create the `plots` and `species` tables"
   ]
  },
  {
   "cell_type": "code",
   "execution_count": null,
   "metadata": {},
   "outputs": [],
   "source": [
    "%%sql\n",
    "SELECT\n",
    "    name\n",
    "FROM\n",
    "    sqlite_master\n",
    "WHERE\n",
    "    type='table'"
   ]
  },
  {
   "cell_type": "code",
   "execution_count": null,
   "metadata": {},
   "outputs": [],
   "source": [
    "%%sql\n",
    "PRAGMA table_info(surveys);"
   ]
  },
  {
   "cell_type": "code",
   "execution_count": null,
   "metadata": {},
   "outputs": [],
   "source": [
    "%%sql\n",
    "DELETE FROM species"
   ]
  },
  {
   "cell_type": "code",
   "execution_count": null,
   "metadata": {},
   "outputs": [],
   "source": [
    "! echo \"SELECT COUNT(*) FROM species\" | sqlite3 -csv -cmd \".import --skip 1 ../data/species.csv species\" ../data/data.db"
   ]
  },
  {
   "cell_type": "code",
   "execution_count": null,
   "metadata": {},
   "outputs": [],
   "source": [
    "%%sql\n",
    "SELECT\n",
    "    *\n",
    "FROM\n",
    "    species\n",
    "LIMIT 10"
   ]
  },
  {
   "cell_type": "code",
   "execution_count": null,
   "metadata": {},
   "outputs": [],
   "source": []
  }
 ],
 "metadata": {
  "kernelspec": {
   "display_name": "Python 3 (ipykernel)",
   "language": "python",
   "name": "python3"
  },
  "language_info": {
   "codemirror_mode": {
    "name": "ipython",
    "version": 3
   },
   "file_extension": ".py",
   "mimetype": "text/x-python",
   "name": "python",
   "nbconvert_exporter": "python",
   "pygments_lexer": "ipython3",
   "version": "3.9.7"
  }
 },
 "nbformat": 4,
 "nbformat_minor": 1
}

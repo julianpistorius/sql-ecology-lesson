{
 "cells": [
  {
   "cell_type": "markdown",
   "id": "badd4457-31d9-47c7-84dc-b2fcb51d299c",
   "metadata": {},
   "source": [
    "# Workshop notebook"
   ]
  },
  {
   "cell_type": "markdown",
   "id": "bb2cbfbe-2941-4246-a931-905b5adc85c9",
   "metadata": {},
   "source": [
    "## Enable Jupyter Logger (Optional)"
   ]
  },
  {
   "cell_type": "markdown",
   "id": "d4829ca4-0dd0-4f16-932d-3b634339ce90",
   "metadata": {},
   "source": [
    "Run the following two cells to send **anonimized activity** from this notebook to workshop facilitators in real time. \n",
    "\n",
    "This will help the workshop facilitators keep track of the overall progress of participants."
   ]
  },
  {
   "cell_type": "code",
   "execution_count": null,
   "id": "042d13d0-b090-44dd-8420-5aaf2d02ffc5",
   "metadata": {},
   "outputs": [],
   "source": [
    "! mkdir -p ./Logger; cp ../JupyterNotebookLogger/Logger/*.py ./Logger"
   ]
  },
  {
   "cell_type": "code",
   "execution_count": null,
   "id": "37325836-81c0-4bea-a7dc-45a1b49a91d1",
   "metadata": {},
   "outputs": [],
   "source": [
    "from Logger import OnlineLogger\n",
    "\n",
    "this_notebooks_name = 'work.ipynb'\n",
    "unique_logset_identifier = 'sql-for-research-2021-09'\n",
    "\n",
    "OnlineLogger.start(this_notebooks_name, unique_logset_identifier)"
   ]
  },
  {
   "cell_type": "markdown",
   "id": "7f257fba-5d76-4b46-902a-d3f363deb9f7",
   "metadata": {
    "tags": []
   },
   "source": [
    "## Setup (Required)"
   ]
  },
  {
   "cell_type": "markdown",
   "id": "a88efc47-fa63-4cb0-bc04-98822017b12a",
   "metadata": {
    "tags": []
   },
   "source": [
    "Copy the original dataset to a folder `notebooks/data`"
   ]
  },
  {
   "cell_type": "code",
   "execution_count": null,
   "id": "76958eb5-03b1-41b7-80fc-82bbd2f2d7a0",
   "metadata": {},
   "outputs": [],
   "source": [
    "! mkdir -p data; cp -R ../files/original-data/* ./data"
   ]
  },
  {
   "cell_type": "markdown",
   "id": "629138a8-a42a-43e6-a512-6abd3262c05d",
   "metadata": {},
   "source": [
    "We're going to use [ipython-sql](https://github.com/catherinedevlin/ipython-sql) extension to run SQL commands inside this Jupyter notebook. We load the extension by using `%load_ext`."
   ]
  },
  {
   "cell_type": "code",
   "execution_count": null,
   "id": "e31b31de-5a1e-435f-9fa0-47d0b9150828",
   "metadata": {},
   "outputs": [],
   "source": [
    "%load_ext sql"
   ]
  },
  {
   "cell_type": "markdown",
   "id": "2f9d6cf5-6286-4aa5-abd0-7c4a1cbf9694",
   "metadata": {},
   "source": [
    "Configure the SQL Magic extension to return Pandas data frames by default (instead of HTML) so Jupyter can show large results sets better."
   ]
  },
  {
   "cell_type": "code",
   "execution_count": null,
   "id": "de6a7b24-5eb0-44a8-bfea-58ae93f4c9df",
   "metadata": {},
   "outputs": [],
   "source": [
    "%config SqlMagic.autopandas=True"
   ]
  },
  {
   "cell_type": "markdown",
   "id": "6161ff47-ec4e-4469-978a-e63cbe48cffe",
   "metadata": {},
   "source": [
    "Now `%sql` magic is enabled & configured, and we can connect to a database. "
   ]
  },
  {
   "cell_type": "markdown",
   "id": "79f344a1-e366-4592-9ab6-1ad9f27c227c",
   "metadata": {},
   "source": [
    "## Work below here"
   ]
  },
  {
   "cell_type": "markdown",
   "id": "debbc9bf-8c62-43cf-a14f-0d463470c6e8",
   "metadata": {},
   "source": [
    "Let's connect to a pre-existing database, the `portal_mammals.sqlite` file from the Portal Project dataset that is included in this lesson."
   ]
  },
  {
   "cell_type": "code",
   "execution_count": null,
   "id": "ba2aaae0-6b45-4d76-8c69-c16f9304a48b",
   "metadata": {},
   "outputs": [],
   "source": [
    "%sql sqlite:///data/portal_mammals.sqlite"
   ]
  },
  {
   "cell_type": "code",
   "execution_count": null,
   "id": "a32ceb69-470c-4d27-9b78-ef75c63bb5aa",
   "metadata": {},
   "outputs": [],
   "source": []
  }
 ],
 "metadata": {
  "kernelspec": {
   "display_name": "Python 3 (ipykernel)",
   "language": "python",
   "name": "python3"
  },
  "language_info": {
   "codemirror_mode": {
    "name": "ipython",
    "version": 3
   },
   "file_extension": ".py",
   "mimetype": "text/x-python",
   "name": "python",
   "nbconvert_exporter": "python",
   "pygments_lexer": "ipython3",
   "version": "3.7.10"
  }
 },
 "nbformat": 4,
 "nbformat_minor": 5
}

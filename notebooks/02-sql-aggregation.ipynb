{
 "cells": [
  {
   "cell_type": "markdown",
   "metadata": {
    "tags": []
   },
   "source": [
    "# Aggregating and Grouping Data"
   ]
  },
  {
   "cell_type": "markdown",
   "metadata": {
    "tags": []
   },
   "source": [
    "## Overview"
   ]
  },
  {
   "cell_type": "markdown",
   "metadata": {},
   "source": [
    "Teaching: 50  \n",
    "Exercises: 10  \n",
    "\n",
    "### Questions\n",
    "\n",
    "- \"How can I summarize my data by aggregating, filtering, or ordering query results?\"\n",
    "- \"How can I make sure column names from my queries make sense and aren't too long?\"\n",
    "\n",
    "### Objectives\n",
    "\n",
    "- \"Apply aggregation functions to group records together.\"\n",
    "- \"Filter and order results of a query based on aggregate functions.\"\n",
    "- \"Employ aliases to assign new names to items in a query.\"\n",
    "- \"Save a query to make a new table.\"\n",
    "- \"Apply filters to find missing values in SQL.\"\n",
    "\n",
    "### Key points\n",
    "\n",
    "- \"Use the `GROUP BY` keyword to aggregate data.\"\n",
    "- \"Functions like `MIN`, `MAX`, `AVG`, `SUM`, `COUNT`, etc. operate on aggregated data.\"\n",
    "- \"Aliases can help shorten long queries. To write clear and readible queries, use the `AS` keyword when creating aliases.\"\n",
    "- \"Use the `HAVING` keyword to filter on aggregate properties.\"\n",
    "- \"Use a `VIEW` to access the result of a query as though it was a new table.\""
   ]
  },
  {
   "cell_type": "markdown",
   "metadata": {
    "tags": []
   },
   "source": [
    "## COUNT and GROUP BY"
   ]
  },
  {
   "cell_type": "markdown",
   "metadata": {},
   "source": [
    "Aggregation allows us to combine results by grouping records based on value. It is also useful for\n",
    "calculating combined values in groups."
   ]
  },
  {
   "cell_type": "markdown",
   "metadata": {},
   "source": [
    "First enable the SQL magic extension, configure extension to return Pandas data frames (in order for the notebook to handle large result sets better), and then connect to our database again."
   ]
  },
  {
   "cell_type": "code",
   "execution_count": null,
   "metadata": {},
   "outputs": [],
   "source": [
    "%load_ext sql"
   ]
  },
  {
   "cell_type": "code",
   "execution_count": null,
   "metadata": {},
   "outputs": [],
   "source": [
    "%config SqlMagic.autopandas=True"
   ]
  },
  {
   "cell_type": "code",
   "execution_count": null,
   "metadata": {},
   "outputs": [],
   "source": [
    "%sql sqlite:///data/portal_mammals.sqlite"
   ]
  },
  {
   "cell_type": "markdown",
   "metadata": {},
   "source": [
    "Let's go to the surveys table and find out how many individuals there are.\n",
    "Using the wildcard * counts the number of records (rows):"
   ]
  },
  {
   "cell_type": "code",
   "execution_count": null,
   "metadata": {},
   "outputs": [],
   "source": [
    "%%sql\n",
    "SELECT COUNT(*)\n",
    "FROM surveys;"
   ]
  },
  {
   "cell_type": "markdown",
   "metadata": {},
   "source": [
    "We can also find out how much all of those individuals weigh:"
   ]
  },
  {
   "cell_type": "code",
   "execution_count": null,
   "metadata": {},
   "outputs": [],
   "source": [
    "%%sql\n",
    "SELECT COUNT(*), SUM(weight)\n",
    "FROM surveys;"
   ]
  },
  {
   "cell_type": "markdown",
   "metadata": {},
   "source": [
    "We can output this value in kilograms (dividing the value by 1000.00), then rounding to 3 decimal places:\n",
    "(Notice the divisor has numbers after the decimal point, which forces the answer to have a decimal fraction)"
   ]
  },
  {
   "cell_type": "code",
   "execution_count": null,
   "metadata": {},
   "outputs": [],
   "source": [
    "%%sql\n",
    "SELECT ROUND(SUM(weight)/1000.00, 3)\n",
    "FROM surveys;"
   ]
  },
  {
   "cell_type": "markdown",
   "metadata": {},
   "source": [
    "There are many other aggregate functions included in SQL, for example:\n",
    "`MAX`, `MIN`, and `AVG`."
   ]
  },
  {
   "cell_type": "markdown",
   "metadata": {
    "tags": []
   },
   "source": [
    "### Challenge"
   ]
  },
  {
   "cell_type": "markdown",
   "metadata": {},
   "source": [
    "> Write a query that returns: the total weight, average weight, minimum and maximum weights\n",
    "> for all animals caught over the duration of the survey.\n",
    "> Can you modify it so that it outputs these values only for weights between 5 and 10?"
   ]
  },
  {
   "cell_type": "markdown",
   "metadata": {
    "jp-MarkdownHeadingCollapsed": true,
    "tags": []
   },
   "source": [
    "#### Solution"
   ]
  },
  {
   "cell_type": "code",
   "execution_count": null,
   "metadata": {},
   "outputs": [],
   "source": [
    "%%sql\n",
    "-- All animals\n",
    "SELECT SUM(weight), AVG(weight), MIN(weight), MAX(weight)\n",
    "FROM surveys;"
   ]
  },
  {
   "cell_type": "code",
   "execution_count": null,
   "metadata": {},
   "outputs": [],
   "source": [
    "%%sql\n",
    "-- Only weights between 5 and 10\n",
    "SELECT SUM(weight), AVG(weight), MIN(weight), MAX(weight)\n",
    "FROM surveys\n",
    "WHERE (weight > 5) AND (weight < 10);"
   ]
  },
  {
   "cell_type": "markdown",
   "metadata": {
    "tags": []
   },
   "source": [
    "## Group By"
   ]
  },
  {
   "cell_type": "markdown",
   "metadata": {},
   "source": [
    "Now, let's see how many individuals were counted in each species. We do this\n",
    "using a `GROUP BY` clause"
   ]
  },
  {
   "cell_type": "code",
   "execution_count": null,
   "metadata": {},
   "outputs": [],
   "source": [
    "%%sql\n",
    "SELECT species_id, COUNT(*)\n",
    "FROM surveys\n",
    "GROUP BY species_id;"
   ]
  },
  {
   "cell_type": "markdown",
   "metadata": {},
   "source": [
    "`GROUP BY` tells SQL what field or fields we want to use to aggregate the data.\n",
    "If we want to group by multiple fields, we give `GROUP BY` a comma separated list."
   ]
  },
  {
   "cell_type": "markdown",
   "metadata": {
    "tags": []
   },
   "source": [
    "### Challenge"
   ]
  },
  {
   "cell_type": "markdown",
   "metadata": {},
   "source": [
    "> Write queries that return:\n",
    ">\n",
    "> 1. How many individuals were counted in each year in total\n",
    "> 2. How many were counted each year, for each different species\n",
    "> 3. The average weights of each species in each year\n",
    ">\n",
    "> Can you get the answer to both 2 and 3 in a single query?"
   ]
  },
  {
   "cell_type": "markdown",
   "metadata": {
    "jp-MarkdownHeadingCollapsed": true,
    "tags": []
   },
   "source": [
    "#### Solution of 1"
   ]
  },
  {
   "cell_type": "code",
   "execution_count": null,
   "metadata": {},
   "outputs": [],
   "source": [
    "%%sql\n",
    "SELECT year, COUNT(*)\n",
    "FROM surveys\n",
    "GROUP BY year;"
   ]
  },
  {
   "cell_type": "markdown",
   "metadata": {
    "jp-MarkdownHeadingCollapsed": true,
    "tags": []
   },
   "source": [
    "#### Solution of 2 and 3"
   ]
  },
  {
   "cell_type": "code",
   "execution_count": null,
   "metadata": {},
   "outputs": [],
   "source": [
    "%%sql\n",
    "SELECT year, species_id, COUNT(*), AVG(weight)\n",
    "FROM surveys\n",
    "GROUP BY year, species_id;"
   ]
  },
  {
   "cell_type": "markdown",
   "metadata": {
    "tags": []
   },
   "source": [
    "## Ordering Aggregated Results"
   ]
  },
  {
   "cell_type": "markdown",
   "metadata": {},
   "source": [
    "We can order the results of our aggregation by a specific column, including\n",
    "the aggregated column.  Let’s count the number of individuals of each\n",
    "species captured, ordered by the count:"
   ]
  },
  {
   "cell_type": "code",
   "execution_count": null,
   "metadata": {},
   "outputs": [],
   "source": [
    "%%sql\n",
    "SELECT species_id, COUNT(*)\n",
    "FROM surveys\n",
    "GROUP BY species_id\n",
    "ORDER BY COUNT(species_id);"
   ]
  },
  {
   "cell_type": "markdown",
   "metadata": {
    "tags": []
   },
   "source": [
    "## Aliases"
   ]
  },
  {
   "cell_type": "markdown",
   "metadata": {},
   "source": [
    "As queries get more complex, the expressions we use can get long and unwieldy. To help make things\n",
    "clearer in the query and in its output, we can use aliases to assign new names to things in the query. \n",
    "\n",
    "We can use aliases in column names using `AS`:"
   ]
  },
  {
   "cell_type": "code",
   "execution_count": null,
   "metadata": {},
   "outputs": [],
   "source": [
    "%%sql\n",
    "SELECT MAX(year) AS last_surveyed_year\n",
    "FROM surveys;"
   ]
  },
  {
   "cell_type": "markdown",
   "metadata": {},
   "source": [
    "The `AS` isn't technically required, so you could do"
   ]
  },
  {
   "cell_type": "code",
   "execution_count": null,
   "metadata": {},
   "outputs": [],
   "source": [
    "%%sql\n",
    "SELECT MAX(year) last_surveyed_year\n",
    "FROM surveys;"
   ]
  },
  {
   "cell_type": "markdown",
   "metadata": {},
   "source": [
    "but using `AS` is much clearer so it is good style to include it.\n",
    "\n",
    "We can not only alias column names, but also table names in the same way:"
   ]
  },
  {
   "cell_type": "code",
   "execution_count": null,
   "metadata": {},
   "outputs": [],
   "source": [
    "%%sql\n",
    "SELECT *\n",
    "FROM surveys AS surv;"
   ]
  },
  {
   "cell_type": "markdown",
   "metadata": {},
   "source": [
    "And again, the `AS` keyword is not required, so this works, too:"
   ]
  },
  {
   "cell_type": "code",
   "execution_count": null,
   "metadata": {},
   "outputs": [],
   "source": [
    "%%sql\n",
    "SELECT *\n",
    "FROM surveys surv;"
   ]
  },
  {
   "cell_type": "markdown",
   "metadata": {},
   "source": [
    "Aliasing table names can be helpful when working with queries that involve multiple tables; you will learn more about this later."
   ]
  },
  {
   "cell_type": "markdown",
   "metadata": {
    "tags": []
   },
   "source": [
    "## The `HAVING` keyword"
   ]
  },
  {
   "cell_type": "markdown",
   "metadata": {},
   "source": [
    "In the previous episode, we have seen the keyword `WHERE`, allowing to\n",
    "filter the results according to some criteria. SQL offers a mechanism to\n",
    "filter the results based on **aggregate functions**, through the `HAVING` keyword.\n",
    "\n",
    "For example, we can request to only return information\n",
    "about species with a count higher than 10:"
   ]
  },
  {
   "cell_type": "code",
   "execution_count": null,
   "metadata": {},
   "outputs": [],
   "source": [
    "%%sql\n",
    "SELECT species_id, COUNT(species_id)\n",
    "FROM surveys\n",
    "GROUP BY species_id\n",
    "HAVING COUNT(species_id) > 10;"
   ]
  },
  {
   "cell_type": "markdown",
   "metadata": {},
   "source": [
    "The `HAVING` keyword works exactly like the `WHERE` keyword, but uses\n",
    "aggregate functions instead of database fields to filter.\n",
    "\n",
    "You can use the `AS` keyword to assign an alias to a column or table, and refer\n",
    "to that alias in the `HAVING` clause.\n",
    "For example, in the above query, we can call the `COUNT(species_id)` by\n",
    "another name, like `occurrences`. This can be written this way:"
   ]
  },
  {
   "cell_type": "code",
   "execution_count": null,
   "metadata": {},
   "outputs": [],
   "source": [
    "%%sql\n",
    "SELECT species_id, COUNT(species_id) AS occurrences\n",
    "FROM surveys\n",
    "GROUP BY species_id\n",
    "HAVING occurrences > 10;"
   ]
  },
  {
   "cell_type": "markdown",
   "metadata": {},
   "source": [
    "Note that in both queries, `HAVING` comes *after* `GROUP BY`. One way to\n",
    "think about this is: the data are retrieved (`SELECT`), which can be filtered\n",
    "(`WHERE`), then joined in groups (`GROUP BY`); finally, we can filter again based on some\n",
    "of these groups (`HAVING`)."
   ]
  },
  {
   "cell_type": "markdown",
   "metadata": {
    "tags": []
   },
   "source": [
    "### Challenge"
   ]
  },
  {
   "cell_type": "markdown",
   "metadata": {},
   "source": [
    "> Write a query that returns, from the `species` table, the number of\n",
    "> `species` in each `taxa`, only for the `taxa` with more than 10 `species`."
   ]
  },
  {
   "cell_type": "markdown",
   "metadata": {
    "jp-MarkdownHeadingCollapsed": true,
    "tags": []
   },
   "source": [
    "#### Solution"
   ]
  },
  {
   "cell_type": "code",
   "execution_count": null,
   "metadata": {},
   "outputs": [],
   "source": [
    "%%sql\n",
    "SELECT taxa, COUNT(*) AS n\n",
    "FROM species\n",
    "GROUP BY taxa\n",
    "HAVING n > 10;"
   ]
  },
  {
   "cell_type": "markdown",
   "metadata": {
    "tags": []
   },
   "source": [
    "## Saving Queries for Future Use"
   ]
  },
  {
   "cell_type": "markdown",
   "metadata": {},
   "source": [
    "It is not uncommon to repeat the same operation more than once, for example\n",
    "for monitoring or reporting purposes. SQL comes with a very powerful mechanism\n",
    "to do this by creating views. Views are a form of query that is saved in the database,\n",
    "and can be used to look at, filter, and even update information. One way to\n",
    "think of views is as a table, that can read, aggregate, and filter information\n",
    "from several places before showing it to you.\n",
    "\n",
    "Creating a view from a query requires us to add `CREATE VIEW viewname AS`\n",
    "before the query itself. For example, imagine that our project only covers\n",
    "the data gathered during the summer (May - September) of 2000.  That\n",
    "query would look like:"
   ]
  },
  {
   "cell_type": "code",
   "execution_count": null,
   "metadata": {},
   "outputs": [],
   "source": [
    "%%sql\n",
    "SELECT *\n",
    "FROM surveys\n",
    "WHERE year = 2000 AND (month > 4 AND month < 10);"
   ]
  },
  {
   "cell_type": "markdown",
   "metadata": {},
   "source": [
    "But we don't want to have to type that every time we want to ask a\n",
    "question about that particular subset of data. Hence, we can benefit from a view:"
   ]
  },
  {
   "cell_type": "code",
   "execution_count": null,
   "metadata": {},
   "outputs": [],
   "source": [
    "%%sql\n",
    "CREATE VIEW summer_2000 AS\n",
    "SELECT *\n",
    "FROM surveys\n",
    "WHERE year = 2000 AND (month > 4 AND month < 10);"
   ]
  },
  {
   "cell_type": "markdown",
   "metadata": {},
   "source": [
    "Using a view we will be able to access these results with a much shorter notation:"
   ]
  },
  {
   "cell_type": "code",
   "execution_count": null,
   "metadata": {},
   "outputs": [],
   "source": [
    "%%sql\n",
    "SELECT *\n",
    "FROM summer_2000\n",
    "WHERE species_id = 'PE';"
   ]
  },
  {
   "cell_type": "markdown",
   "metadata": {
    "tags": []
   },
   "source": [
    "## What About NULL?"
   ]
  },
  {
   "cell_type": "markdown",
   "metadata": {},
   "source": [
    "From the last example, there should only be five records.  If you look at the `weight` column, it's\n",
    "easy to see what the average weight would be. If we use SQL to find the\n",
    "average weight, SQL behaves like we would hope, ignoring the NULL values:"
   ]
  },
  {
   "cell_type": "markdown",
   "metadata": {},
   "source": [
    "```sql\n",
    "SELECT AVG(weight)\n",
    "FROM summer_2000\n",
    "WHERE species_id = 'PE';\n",
    "```"
   ]
  },
  {
   "cell_type": "markdown",
   "metadata": {},
   "source": [
    "But if we try to be extra clever, and find the average ourselves,\n",
    "we might get tripped up:"
   ]
  },
  {
   "cell_type": "markdown",
   "metadata": {},
   "source": [
    "```sql\n",
    "SELECT SUM(weight), COUNT(*), SUM(weight)/COUNT(*)\n",
    "FROM summer_2000\n",
    "WHERE species_id = 'PE';\n",
    "```"
   ]
  },
  {
   "cell_type": "markdown",
   "metadata": {},
   "source": [
    "Here the `COUNT` command includes all five records (even those with NULL\n",
    "values), but the `SUM` only includes the three records with data in the\n",
    "`weight` field, giving us an incorrect average. However,\n",
    "our strategy *will* work if we modify the `COUNT` command slightly:"
   ]
  },
  {
   "cell_type": "markdown",
   "metadata": {},
   "source": [
    "```sql\n",
    "SELECT SUM(weight), COUNT(weight), SUM(weight)/COUNT(weight)\n",
    "FROM summer_2000\n",
    "WHERE species_id = 'PE';\n",
    "```"
   ]
  },
  {
   "cell_type": "markdown",
   "metadata": {},
   "source": [
    "When we count the weight field specifically, SQL ignores the records with data\n",
    "missing in that field.  So here is one example where NULLs can be tricky:\n",
    "`COUNT(*)` and `COUNT(field)` can return different values.\n",
    "\n",
    "Another case is when we use a \"negative\" query.  Let's count all the\n",
    "non-female animals:"
   ]
  },
  {
   "cell_type": "markdown",
   "metadata": {},
   "source": [
    "```sql\n",
    "SELECT COUNT(*)\n",
    "FROM summer_2000\n",
    "WHERE sex != 'F';\n",
    "```"
   ]
  },
  {
   "cell_type": "markdown",
   "metadata": {},
   "source": [
    "Now let's count all the non-male animals:\n",
    "\n",
    "```sql\n",
    "SELECT COUNT(*)\n",
    "FROM summer_2000\n",
    "WHERE sex != 'M';\n",
    "```"
   ]
  },
  {
   "cell_type": "markdown",
   "metadata": {},
   "source": [
    "But if we compare those two numbers with the total:"
   ]
  },
  {
   "cell_type": "markdown",
   "metadata": {},
   "source": [
    "```sql\n",
    "SELECT COUNT(*)\n",
    "FROM summer_2000;\n",
    "```"
   ]
  },
  {
   "cell_type": "markdown",
   "metadata": {},
   "source": [
    "We'll see that they don't add up to the total! That's because SQL\n",
    "doesn't automatically include NULL values in a negative conditional\n",
    "statement.  So if we are querying \"not x\", then SQL divides our data\n",
    "into three categories: 'x', 'not NULL, not x' and NULL; then,\n",
    "returns the 'not NULL, not x' group. Sometimes this may be what we want -\n",
    "but sometimes we may want the missing values included as well! In that\n",
    "case, we'd need to change our query to:"
   ]
  },
  {
   "cell_type": "markdown",
   "metadata": {},
   "source": [
    "```sql\n",
    "SELECT COUNT(*)\n",
    "FROM summer_2000\n",
    "WHERE sex != 'M' OR sex IS NULL;\n",
    "```"
   ]
  },
  {
   "cell_type": "code",
   "execution_count": null,
   "metadata": {},
   "outputs": [],
   "source": []
  }
 ],
 "metadata": {
  "kernelspec": {
   "display_name": "Python 3 (ipykernel)",
   "language": "python",
   "name": "python3"
  },
  "language_info": {
   "codemirror_mode": {
    "name": "ipython",
    "version": 3
   },
   "file_extension": ".py",
   "mimetype": "text/x-python",
   "name": "python",
   "nbconvert_exporter": "python",
   "pygments_lexer": "ipython3",
   "version": "3.7.10"
  }
 },
 "nbformat": 4,
 "nbformat_minor": 4
}

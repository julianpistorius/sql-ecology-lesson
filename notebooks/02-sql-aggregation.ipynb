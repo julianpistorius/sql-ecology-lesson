{
 "cells": [
  {
   "cell_type": "markdown",
   "metadata": {
    "tags": []
   },
   "source": [
    "# Aggregating and Grouping Data"
   ]
  },
  {
   "cell_type": "markdown",
   "metadata": {
    "jp-MarkdownHeadingCollapsed": true,
    "tags": []
   },
   "source": [
    "# Overview"
   ]
  },
  {
   "cell_type": "markdown",
   "metadata": {},
   "source": [
    "Teaching: 50  \n",
    "Exercises: 10  \n",
    "\n",
    "### Questions\n",
    "\n",
    "- \"How can I summarize my data by aggregating, filtering, or ordering query results?\"\n",
    "- \"How can I make sure column names from my queries make sense and aren't too long?\"\n",
    "\n",
    "### Objectives\n",
    "\n",
    "- \"Apply aggregation functions to group records together.\"\n",
    "- \"Filter and order results of a query based on aggregate functions.\"\n",
    "- \"Employ aliases to assign new names to items in a query.\"\n",
    "- \"Save a query to make a new table.\"\n",
    "- \"Apply filters to find missing values in SQL.\"\n",
    "\n",
    "### Key points\n",
    "\n",
    "- \"Use the `GROUP BY` keyword to aggregate data.\"\n",
    "- \"Functions like `MIN`, `MAX`, `AVG`, `SUM`, `COUNT`, etc. operate on aggregated data.\"\n",
    "- \"Aliases can help shorten long queries. To write clear and readible queries, use the `AS` keyword when creating aliases.\"\n",
    "- \"Use the `HAVING` keyword to filter on aggregate properties.\"\n",
    "- \"Use a `VIEW` to access the result of a query as though it was a new table.\""
   ]
  },
  {
   "cell_type": "code",
   "execution_count": null,
   "metadata": {},
   "outputs": [],
   "source": []
  }
 ],
 "metadata": {
  "kernelspec": {
   "display_name": "Python 3 (ipykernel)",
   "language": "python",
   "name": "python3"
  },
  "language_info": {
   "codemirror_mode": {
    "name": "ipython",
    "version": 3
   },
   "file_extension": ".py",
   "mimetype": "text/x-python",
   "name": "python",
   "nbconvert_exporter": "python",
   "pygments_lexer": "ipython3",
   "version": "3.7.10"
  }
 },
 "nbformat": 4,
 "nbformat_minor": 4
}

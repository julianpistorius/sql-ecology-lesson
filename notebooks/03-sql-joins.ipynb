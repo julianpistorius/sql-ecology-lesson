{
 "cells": [
  {
   "cell_type": "markdown",
   "metadata": {
    "tags": []
   },
   "source": [
    "# Combining Data With Joins"
   ]
  },
  {
   "cell_type": "markdown",
   "metadata": {
    "jp-MarkdownHeadingCollapsed": true,
    "tags": []
   },
   "source": [
    "# Overview"
   ]
  },
  {
   "cell_type": "markdown",
   "metadata": {},
   "source": [
    "Teaching: 15  \n",
    "Exercises: 10  \n",
    "\n",
    "### Questions\n",
    "\n",
    "- \"How do I bring data together from separate tables?\"\n",
    "\n",
    "### Objectives\n",
    "\n",
    "- \"Employ joins to combine data from two tables.\"\n",
    "- \"Apply functions to manipulate individual values.\"\n",
    "- \"Employ aliases to assign new names to tables and columns in a query.\"\n",
    "\n",
    "### Key points\n",
    "\n",
    "- \"Use the `JOIN` command to combine data from two tables---the `ON` or `USING` keywords specify which columns link the tables.\"\n",
    "- \"Regular `JOIN` returns only matching rows. Other join commands provide different behavior, e.g., `LEFT JOIN` retains all rows of the table on the left side of the command.\"\n",
    "- \"`COALESCE` allows you to specify a value to use in place of `NULL`, which can help in joins\"\n",
    "- \"`NULLIF` can be used to replace certain values with `NULL` in results\"\n",
    "- \"Many other functions like `COALESCE` and `NULLIF` can operate on individual values.\""
   ]
  },
  {
   "cell_type": "code",
   "execution_count": null,
   "metadata": {},
   "outputs": [],
   "source": []
  }
 ],
 "metadata": {
  "kernelspec": {
   "display_name": "Python 3 (ipykernel)",
   "language": "python",
   "name": "python3"
  },
  "language_info": {
   "codemirror_mode": {
    "name": "ipython",
    "version": 3
   },
   "file_extension": ".py",
   "mimetype": "text/x-python",
   "name": "python",
   "nbconvert_exporter": "python",
   "pygments_lexer": "ipython3",
   "version": "3.7.10"
  }
 },
 "nbformat": 4,
 "nbformat_minor": 4
}

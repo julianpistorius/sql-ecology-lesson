{
 "cells": [
  {
   "cell_type": "markdown",
   "metadata": {
    "tags": []
   },
   "source": [
    "# Combining Data With Joins"
   ]
  },
  {
   "cell_type": "markdown",
   "metadata": {
    "jp-MarkdownHeadingCollapsed": true,
    "tags": []
   },
   "source": [
    "## Overview"
   ]
  },
  {
   "cell_type": "markdown",
   "metadata": {},
   "source": [
    "Teaching: 15  \n",
    "Exercises: 10  \n",
    "\n",
    "### Questions\n",
    "\n",
    "- \"How do I bring data together from separate tables?\"\n",
    "\n",
    "### Objectives\n",
    "\n",
    "- \"Employ joins to combine data from two tables.\"\n",
    "- \"Apply functions to manipulate individual values.\"\n",
    "- \"Employ aliases to assign new names to tables and columns in a query.\"\n",
    "\n",
    "### Key points\n",
    "\n",
    "- \"Use the `JOIN` command to combine data from two tables---the `ON` or `USING` keywords specify which columns link the tables.\"\n",
    "- \"Regular `JOIN` returns only matching rows. Other join commands provide different behavior, e.g., `LEFT JOIN` retains all rows of the table on the left side of the command.\"\n",
    "- \"`COALESCE` allows you to specify a value to use in place of `NULL`, which can help in joins\"\n",
    "- \"`NULLIF` can be used to replace certain values with `NULL` in results\"\n",
    "- \"Many other functions like `COALESCE` and `NULLIF` can operate on individual values.\""
   ]
  },
  {
   "cell_type": "markdown",
   "metadata": {
    "jp-MarkdownHeadingCollapsed": true,
    "tags": []
   },
   "source": [
    "## Joins"
   ]
  },
  {
   "cell_type": "markdown",
   "metadata": {},
   "source": [
    "To combine data from two tables we use the SQL `JOIN` command, which comes after\n",
    "the `FROM` command.\n",
    "\n",
    "Database tables are used to organize and group data by common characteristics or principles.  \n",
    "Often, we need to combine elements from separate tables into a single tables or queries for analysis and visualization.\n",
    "A JOIN is a means for combining columns from multiple tables by using values common to each.\n",
    "\n",
    "The JOIN command combined with ON is used to combine fields from separate tables.  \n",
    "\n",
    "The `JOIN` command on its own will result in a cross product, where each row in\n",
    "the first table is paired with each row in the second table. Usually this is not\n",
    "what is desired when combining two tables with data that is related in some way.\n",
    "\n",
    "For that, we need to tell the computer which columns provide the link between the two\n",
    "tables using the word `ON`.  What we want is to join the data with the same\n",
    "species id.\n",
    "\n",
    "    SELECT *\n",
    "    FROM surveys\n",
    "    JOIN species\n",
    "    ON surveys.species_id = species.species_id;\n",
    "\n",
    "`ON` is like `WHERE`. It filters things out according to a test condition.  We use\n",
    "the `table.colname` format to tell the manager what column in which table we are\n",
    "referring to.\n",
    "\n",
    "The output of the `JOIN` command will have columns from the first table plus the\n",
    "columns from the second table. For the above command, the output will be a table\n",
    "that has the following column names:\n",
    "\n",
    "| record_id | month | day | year | plot_id | species_id | sex | hindfoot_length | weight | species_id | genus | species | taxa |\n",
    "|---|---|---|---|---|---|---|---|---|---|---|---|---|\n",
    "| ... |||||||||||||   \n",
    "| 96  | 8  | 20  | 1997  | 12  | **DM**  |  M |  36  |  41  | **DM** | Dipodomys  | merriami  | Rodent  |\n",
    "| ... |||||||||||||| \n",
    "\n",
    "Alternatively, we can use the word `USING`, as a short-hand. `USING` only \n",
    "works on columns which share the same name. In this case we are\n",
    "telling the manager that we want to combine `surveys` with `species` and that\n",
    "the common column is `species_id`.\n",
    "\n",
    "    SELECT *\n",
    "    FROM surveys\n",
    "    JOIN species\n",
    "    USING (species_id);\n",
    "\n",
    "The output will only have one **species_id** column\n",
    "\n",
    "| record_id | month | day | year | plot_id | species_id | sex | hindfoot_length | weight  | genus | species | taxa |\n",
    "|---|---|---|---|---|---|---|---|---|---|---|---|\n",
    "| ... ||||||||||||\n",
    "| 96  | 8  | 20  | 1997  | 12  | DM  |  M |  36  |  41  | Dipodomys  | merriami  | Rodent  |\n",
    "| ... |||||||||||||\n",
    "\n",
    "We often won't want all of the fields from both tables, so anywhere we would\n",
    "have used a field name in a non-join query, we can use `table.colname`.\n",
    "\n",
    "For example, what if we wanted information on when individuals of each\n",
    "species were captured, but instead of their species ID we wanted their\n",
    "actual species names.\n",
    "\n",
    "    SELECT surveys.year, surveys.month, surveys.day, species.genus, species.species\n",
    "    FROM surveys\n",
    "    JOIN species\n",
    "    ON surveys.species_id = species.species_id;\n",
    "\n",
    "| year | month | day | genus | species |\n",
    "|---|---|---|---|---|\n",
    "| ... |||||\n",
    "| 1977 | 7 | 16 | Neotoma | albigula|\n",
    "| 1977 | 7 | 16 | Dipodomys | merriami|\n",
    "|...||||||\n",
    "\n",
    "Many databases, including SQLite, also support a join through the `WHERE` clause of a query.  \n",
    "For example, you may see the query above written without an explicit JOIN.\n",
    "\n",
    "\tSELECT surveys.year, surveys.month, surveys.day, species.genus, species.species\n",
    "\tFROM surveys, species\n",
    "\tWHERE surveys.species_id = species.species_id;\n",
    "\n",
    "For the remainder of this lesson, we'll stick with the explicit use of the `JOIN` keyword for \n",
    "joining tables in SQL.  "
   ]
  },
  {
   "cell_type": "markdown",
   "metadata": {
    "jp-MarkdownHeadingCollapsed": true,
    "tags": []
   },
   "source": [
    "### Challenge"
   ]
  },
  {
   "cell_type": "markdown",
   "metadata": {},
   "source": [
    "> - Write a query that returns the genus, the species name, and the weight\n",
    "> of every individual captured at the site"
   ]
  },
  {
   "cell_type": "markdown",
   "metadata": {
    "jp-MarkdownHeadingCollapsed": true,
    "tags": []
   },
   "source": [
    "#### Solution"
   ]
  },
  {
   "cell_type": "markdown",
   "metadata": {},
   "source": [
    "    SELECT species.genus, species.species, surveys.weight\n",
    "    FROM surveys\n",
    "    JOIN species\n",
    "    ON surveys.species_id = species.species_id;"
   ]
  },
  {
   "cell_type": "markdown",
   "metadata": {
    "jp-MarkdownHeadingCollapsed": true,
    "tags": []
   },
   "source": [
    "## Different join types"
   ]
  },
  {
   "cell_type": "markdown",
   "metadata": {},
   "source": [
    "We can count the number of records returned by our original join query.\n",
    "\n",
    "    SELECT COUNT(*)\n",
    "    FROM surveys\n",
    "    JOIN species\n",
    "    USING (species_id);\n",
    "\n",
    "Notice that this number is smaller than the number of records present in the\n",
    "survey data.\n",
    "\n",
    "    SELECT COUNT(*) FROM surveys;\n",
    "\n",
    "This is because, by default, SQL only returns records where the joining value\n",
    "is present in the joined columns of both tables (i.e. it takes the _intersection_\n",
    "of the two join columns). This joining behaviour is known as an `INNER JOIN`.\n",
    "In fact the `JOIN` command is simply shorthand for `INNER JOIN` and the two\n",
    "terms can be used interchangably as they will produce the same result.\n",
    "\n",
    "We can also tell the computer that we wish to keep all the records in the first\n",
    "table by using the command `LEFT OUTER JOIN`, or `LEFT JOIN` for short."
   ]
  },
  {
   "cell_type": "markdown",
   "metadata": {
    "jp-MarkdownHeadingCollapsed": true,
    "tags": []
   },
   "source": [
    "### Challenge"
   ]
  },
  {
   "cell_type": "markdown",
   "metadata": {},
   "source": [
    "> - Re-write the original query to keep all the entries present in the `surveys`\n",
    "> table. How many records are returned by this query?"
   ]
  },
  {
   "cell_type": "markdown",
   "metadata": {
    "jp-MarkdownHeadingCollapsed": true,
    "tags": []
   },
   "source": [
    "#### Solution"
   ]
  },
  {
   "cell_type": "markdown",
   "metadata": {},
   "source": [
    "    SELECT * FROM surveys\n",
    "    LEFT JOIN species\n",
    "    USING (species_id);"
   ]
  },
  {
   "cell_type": "markdown",
   "metadata": {
    "jp-MarkdownHeadingCollapsed": true,
    "tags": []
   },
   "source": [
    "### Challenge"
   ]
  },
  {
   "cell_type": "markdown",
   "metadata": {},
   "source": [
    "> - Count the number of records in the `surveys` table that have a `NULL` value\n",
    "> in the `species_id` column."
   ]
  },
  {
   "cell_type": "markdown",
   "metadata": {
    "jp-MarkdownHeadingCollapsed": true,
    "tags": []
   },
   "source": [
    "#### Solution"
   ]
  },
  {
   "cell_type": "markdown",
   "metadata": {},
   "source": [
    "    SELECT COUNT(*)\n",
    "    FROM surveys\n",
    "    WHERE species_id IS NULL;\n",
    "\n",
    "Remember: In SQL a `NULL` value in one table can never be joined to a `NULL` value in a\n",
    "second table because `NULL` is not equal to anything, not even itself. "
   ]
  },
  {
   "cell_type": "markdown",
   "metadata": {
    "jp-MarkdownHeadingCollapsed": true,
    "tags": []
   },
   "source": [
    "### Combining joins with sorting and aggregation"
   ]
  },
  {
   "cell_type": "markdown",
   "metadata": {},
   "source": [
    "Joins can be combined with sorting, filtering, and aggregation. So, if we\n",
    "wanted average mass of the individuals on each different type of treatment, we\n",
    "could do something like\n",
    "\n",
    "    SELECT plots.plot_type, AVG(surveys.weight)\n",
    "    FROM surveys\n",
    "    JOIN plots\n",
    "    ON surveys.plot_id = plots.plot_id\n",
    "    GROUP BY plots.plot_type;"
   ]
  },
  {
   "cell_type": "markdown",
   "metadata": {
    "jp-MarkdownHeadingCollapsed": true,
    "tags": []
   },
   "source": [
    "### Challenge"
   ]
  },
  {
   "cell_type": "markdown",
   "metadata": {},
   "source": [
    "> - Write a query that returns the number of animals caught of each genus in each plot. \n",
    "> Order the results by plot number (ascending) and by descending number of individuals in each plot."
   ]
  },
  {
   "cell_type": "markdown",
   "metadata": {
    "jp-MarkdownHeadingCollapsed": true,
    "tags": []
   },
   "source": [
    "#### Solution"
   ]
  },
  {
   "cell_type": "markdown",
   "metadata": {},
   "source": [
    "    SELECT surveys.plot_id, species.genus, COUNT(*) AS number_indiv\n",
    "    FROM surveys\n",
    "    JOIN species\n",
    "    ON surveys.species_id = species.species_id\n",
    "    GROUP BY species.genus, surveys.plot_id\n",
    "    ORDER BY surveys.plot_id ASC, number_indiv DESC;"
   ]
  },
  {
   "cell_type": "markdown",
   "metadata": {
    "jp-MarkdownHeadingCollapsed": true,
    "tags": []
   },
   "source": [
    "### Challenge"
   ]
  },
  {
   "cell_type": "markdown",
   "metadata": {},
   "source": [
    "> - Write a query that finds the average weight of each rodent species (i.e., only include species with Rodent in the taxa field)."
   ]
  },
  {
   "cell_type": "markdown",
   "metadata": {
    "jp-MarkdownHeadingCollapsed": true,
    "tags": []
   },
   "source": [
    "#### Solution"
   ]
  },
  {
   "cell_type": "markdown",
   "metadata": {},
   "source": [
    "    SELECT surveys.species_id, AVG(surveys.weight)\n",
    "    FROM surveys\n",
    "    JOIN species\n",
    "    ON surveys.species_id = species.species_id\n",
    "    WHERE species.taxa = 'Rodent'\n",
    "    GROUP BY surveys.species_id;"
   ]
  },
  {
   "cell_type": "markdown",
   "metadata": {
    "jp-MarkdownHeadingCollapsed": true,
    "tags": []
   },
   "source": [
    "## Functions `COALESCE` and `NULLIF` and more"
   ]
  },
  {
   "cell_type": "markdown",
   "metadata": {},
   "source": [
    "SQL includes numerous functions for manipulating data. You've already seen some\n",
    "of these being used for aggregation (`SUM` and `COUNT`) but there are functions\n",
    "that operate on individual values as well. Probably the most important of these\n",
    "are `COALESCE` and `NULLIF`. `COALESCE` allows us to specify a value to use in\n",
    "place of `NULL`.\n",
    "\n",
    "We can represent unknown sexes with `'U'` instead of `NULL`:\n",
    "\n",
    "    SELECT species_id, sex, COALESCE(sex, 'U')\n",
    "    FROM surveys;\n",
    "\n",
    "The lone \"sex\" column is only included in the query above to illustrate where\n",
    "`COALESCE` has changed values; this isn't a usage requirement."
   ]
  },
  {
   "cell_type": "markdown",
   "metadata": {
    "jp-MarkdownHeadingCollapsed": true,
    "tags": []
   },
   "source": [
    "### Challenge"
   ]
  },
  {
   "cell_type": "markdown",
   "metadata": {},
   "source": [
    "> - Write a query that returns 30 instead of `NULL` for values in the\n",
    "> `hindfoot_length` column."
   ]
  },
  {
   "cell_type": "markdown",
   "metadata": {
    "jp-MarkdownHeadingCollapsed": true,
    "tags": []
   },
   "source": [
    "#### Solution"
   ]
  },
  {
   "cell_type": "markdown",
   "metadata": {},
   "source": [
    "    SELECT hindfoot_length, COALESCE(hindfoot_length, 30)\n",
    "    FROM surveys;"
   ]
  },
  {
   "cell_type": "markdown",
   "metadata": {
    "jp-MarkdownHeadingCollapsed": true,
    "tags": []
   },
   "source": [
    "### Challenge"
   ]
  },
  {
   "cell_type": "markdown",
   "metadata": {},
   "source": [
    "> - Write a query that calculates the average hind-foot length of each species,\n",
    "> assuming that unknown lengths are 30 (as above)."
   ]
  },
  {
   "cell_type": "markdown",
   "metadata": {
    "jp-MarkdownHeadingCollapsed": true,
    "tags": []
   },
   "source": [
    "#### Solution"
   ]
  },
  {
   "cell_type": "markdown",
   "metadata": {},
   "source": [
    "    SELECT species_id, AVG(COALESCE(hindfoot_length, 30))\n",
    "    FROM surveys\n",
    "    GROUP BY species_id;\n",
    "\n",
    "`COALESCE` can be particularly useful in `JOIN`. When joining the `species` and\n",
    "`surveys` tables earlier, some results were excluded because the `species_id`\n",
    "was `NULL` in the surveys table. We can use `COALESCE` to include them again, re-writing the `NULL` to\n",
    "a valid joining value:\n",
    "\n",
    "    SELECT surveys.year, surveys.month, surveys.day, species.genus, species.species\n",
    "    FROM surveys\n",
    "    JOIN species\n",
    "    ON COALESCE(surveys.species_id, 'AB') = species.species_id;"
   ]
  },
  {
   "cell_type": "markdown",
   "metadata": {
    "jp-MarkdownHeadingCollapsed": true,
    "tags": []
   },
   "source": [
    "### Challenge"
   ]
  },
  {
   "cell_type": "markdown",
   "metadata": {},
   "source": [
    "> - Write a query that returns the number of animals caught of each genus in each\n",
    "> plot, assuming that unknown species are all of the genus \"Rodent\"."
   ]
  },
  {
   "cell_type": "markdown",
   "metadata": {
    "jp-MarkdownHeadingCollapsed": true,
    "tags": []
   },
   "source": [
    "#### Solution"
   ]
  },
  {
   "cell_type": "markdown",
   "metadata": {},
   "source": [
    "    SELECT plot_id, COALESCE(genus, 'Rodent') AS genus2, COUNT(*)\n",
    "    FROM surveys \n",
    "    LEFT JOIN species\n",
    "    ON surveys.species_id=species.species_id\n",
    "    GROUP BY plot_id, genus2;"
   ]
  },
  {
   "cell_type": "markdown",
   "metadata": {
    "jp-MarkdownHeadingCollapsed": true,
    "tags": []
   },
   "source": [
    "### NULLIF"
   ]
  },
  {
   "cell_type": "markdown",
   "metadata": {},
   "source": [
    "The inverse of `COALESCE` is `NULLIF`. This returns `NULL` if the first argument\n",
    "is equal to the second argument. If the two are not equal, the first argument\n",
    "is returned. This is useful for \"nulling out\" specific values.\n",
    "\n",
    "We can \"null out\" plot 7:\n",
    "\n",
    "    SELECT species_id, plot_id, NULLIF(plot_id, 7)\n",
    "    FROM surveys;"
   ]
  },
  {
   "cell_type": "markdown",
   "metadata": {
    "jp-MarkdownHeadingCollapsed": true,
    "tags": []
   },
   "source": [
    "### Other functions"
   ]
  },
  {
   "cell_type": "markdown",
   "metadata": {},
   "source": [
    "Some more functions which are common to SQL databases are listed in the table\n",
    "below:\n",
    "\n",
    "| Function                     | Description                                                                                     |\n",
    "|------------------------------|-------------------------------------------------------------------------------------------------|\n",
    "| `ABS(n)`                     | Returns the absolute (positive) value of the numeric expression *n*                             |\n",
    "| `COALESCE(x1, ..., xN)`      | Returns the first of its parameters that is not NULL                                            |\n",
    "| `LENGTH(s)`                  | Returns the length of the string expression *s*                                                 |\n",
    "| `LOWER(s)`                   | Returns the string expression *s* converted to lowercase                                        |\n",
    "| `NULLIF(x, y)`               | Returns NULL if *x* is equal to *y*, otherwise returns *x*                                      |\n",
    "| `ROUND(n)` or `ROUND(n, x)`  | Returns the numeric expression *n* rounded to *x* digits after the decimal point (0 by default) |\n",
    "| `TRIM(s)`                    | Returns the string expression *s* without leading and trailing whitespace characters            |\n",
    "| `UPPER(s)`                   | Returns the string expression *s* converted to uppercase                                        |\n",
    "\n",
    "Finally, some useful functions which are particular to SQLite are listed in the\n",
    "table below:\n",
    "\n",
    "| Function                            | Description                                                                                                                                                                    |\n",
    "|-------------------------------------|--------------------------------------------------------------------------------------------------------------------------------------------------------------------------------|\n",
    "| `RANDOM()`                          | Returns a random integer between -9223372036854775808 and +9223372036854775807.                                                                                                |\n",
    "| `REPLACE(s, f, r)`                  | Returns the string expression *s* in which every occurrence of *f* has been replaced with *r*                                                                                  |\n",
    "| `SUBSTR(s, x, y)` or `SUBSTR(s, x)` | Returns the portion of the string expression *s* starting at the character position *x* (leftmost position is 1), *y* characters long (or to the end of *s* if *y* is omitted) |"
   ]
  },
  {
   "cell_type": "markdown",
   "metadata": {
    "jp-MarkdownHeadingCollapsed": true,
    "tags": []
   },
   "source": [
    "### Challenge"
   ]
  },
  {
   "cell_type": "markdown",
   "metadata": {},
   "source": [
    "> Write a query that returns genus names (no repeats), sorted from longest genus name down\n",
    "> to shortest."
   ]
  },
  {
   "cell_type": "markdown",
   "metadata": {
    "jp-MarkdownHeadingCollapsed": true,
    "tags": []
   },
   "source": [
    "#### Solution"
   ]
  },
  {
   "cell_type": "markdown",
   "metadata": {},
   "source": [
    "    SELECT DISTINCT genus\n",
    "    FROM species\n",
    "    ORDER BY LENGTH(genus) DESC;"
   ]
  },
  {
   "cell_type": "markdown",
   "metadata": {
    "jp-MarkdownHeadingCollapsed": true,
    "tags": []
   },
   "source": [
    "## Aliases when joining"
   ]
  },
  {
   "cell_type": "markdown",
   "metadata": {},
   "source": [
    "As we saw before, aliases make things clearer, and are especially useful when joining tables.\n",
    "\n",
    "    SELECT surv.year AS yr, surv.month AS mo, surv.day AS day, sp.genus AS gen, sp.species AS sp\n",
    "    FROM surveys AS surv\n",
    "    JOIN species AS sp\n",
    "    ON surv.species_id = sp.species_id;\n",
    "    \n",
    "To practice we have some optional challenges for you."
   ]
  },
  {
   "cell_type": "markdown",
   "metadata": {
    "jp-MarkdownHeadingCollapsed": true,
    "tags": []
   },
   "source": [
    "### Challenge (optional)"
   ]
  },
  {
   "cell_type": "markdown",
   "metadata": {},
   "source": [
    "> SQL queries help us *ask* specific *questions* which we want to answer about our data. The real skill with SQL is to know how to translate our scientific questions into a sensible SQL query (and subsequently visualize and interpret our results).\n",
    ">\n",
    "> Have a look at the following questions; these questions are written in plain English. Can you translate them to *SQL queries* and give a suitable answer?  \n",
    "> \n",
    "> 1. How many plots from each type are there?  \n",
    "> \n",
    "> 2. How many specimens are of each sex are there for each year, including those whose sex is unknown?\n",
    "> \n",
    "> 3. How many specimens of each species were captured in each type of plot, excluding specimens of unknown species? \n",
    "> \n",
    "> 4. What is the average weight of each taxa?  \n",
    "> \n",
    "> 5. What are the minimum, maximum and average weight for each species of Rodent?  \n",
    ">\n",
    "> 6. What is the average hindfoot length for male and female rodent of each species? Is there a Male / Female difference?  \n",
    "> \n",
    "> 7. What is the average weight of each rodent species over the course of the years? Is there any noticeable trend for any of the species?  "
   ]
  },
  {
   "cell_type": "markdown",
   "metadata": {
    "jp-MarkdownHeadingCollapsed": true,
    "tags": []
   },
   "source": [
    "#### Proposed solutions"
   ]
  },
  {
   "cell_type": "markdown",
   "metadata": {},
   "source": [
    "1. Solution: \n",
    "\n",
    "    SELECT plot_type, COUNT(*) AS num_plots\n",
    "    FROM plots\n",
    "    GROUP BY plot_type;\n",
    "\n",
    "2. Solution:\n",
    "\n",
    "    SELECT year, sex, COUNT(*) AS num_animal\n",
    "    FROM surveys\n",
    "    GROUP BY sex, year;\n",
    "\n",
    "3. Solution: \n",
    "\n",
    "    SELECT species_id, plot_type, COUNT(*) \n",
    "    FROM surveys \n",
    "    JOIN plots USING(plot_id) \n",
    "    WHERE species_id IS NOT NULL \n",
    "    GROUP BY species_id, plot_type;\n",
    "\n",
    "4. Solution:\n",
    "\n",
    "    SELECT taxa, AVG(weight) \n",
    "    FROM surveys \n",
    "    JOIN species ON species.species_id = surveys.species_id\n",
    "    GROUP BY taxa;\n",
    "\n",
    "5. Solution:\n",
    "\n",
    "    SELECT surveys.species_id, MIN(weight), MAX(weight), AVG(weight) FROM surveys \n",
    "    JOIN species ON surveys.species_id = species.species_id \n",
    "    WHERE taxa = 'Rodent' \n",
    "    GROUP BY surveys.species_id;\n",
    "\n",
    "6. Solution:\n",
    "\n",
    "    SELECT surveys.species_id, sex, AVG(hindfoot_length)\n",
    "    FROM surveys JOIN species ON surveys.species_id = species.species_id \n",
    "    WHERE (taxa = 'Rodent') AND (sex IS NOT NULL) \n",
    "    GROUP BY surveys.species_id, sex;\n",
    "\n",
    "7. Solution:\n",
    "\n",
    "    SELECT surveys.species_id, year, AVG(weight) as mean_weight\n",
    "    FROM surveys \n",
    "    JOIN species ON surveys.species_id = species.species_id \n",
    "    WHERE taxa = 'Rodent' GROUP BY surveys.species_id, year;"
   ]
  },
  {
   "cell_type": "code",
   "execution_count": null,
   "metadata": {},
   "outputs": [],
   "source": []
  }
 ],
 "metadata": {
  "kernelspec": {
   "display_name": "Python 3 (ipykernel)",
   "language": "python",
   "name": "python3"
  },
  "language_info": {
   "codemirror_mode": {
    "name": "ipython",
    "version": 3
   },
   "file_extension": ".py",
   "mimetype": "text/x-python",
   "name": "python",
   "nbconvert_exporter": "python",
   "pygments_lexer": "ipython3",
   "version": "3.7.10"
  }
 },
 "nbformat": 4,
 "nbformat_minor": 4
}
